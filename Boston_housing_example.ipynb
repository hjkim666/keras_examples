{
  "nbformat": 4,
  "nbformat_minor": 0,
  "metadata": {
    "colab": {
      "name": "Boston_housing_example.ipynb",
      "provenance": [],
      "collapsed_sections": []
    },
    "kernelspec": {
      "name": "python3",
      "display_name": "Python 3"
    },
    "language_info": {
      "name": "python"
    },
    "accelerator": "GPU"
  },
  "cells": [
    {
      "cell_type": "code",
      "metadata": {
        "id": "vgBcMlRtIPKW"
      },
      "source": [
        "from keras.datasets import boston_housing\n",
        "\n",
        "(train_data, train_targets),(test_data, test_targets)  = boston_housing.load_data()"
      ],
      "execution_count": null,
      "outputs": []
    },
    {
      "cell_type": "code",
      "metadata": {
        "colab": {
          "base_uri": "https://localhost:8080/"
        },
        "id": "cUcHQCMLagnb",
        "outputId": "2a319f8f-d4ed-4dc0-b050-e78b2a1331c2"
      },
      "source": [
        "train_data.shape"
      ],
      "execution_count": null,
      "outputs": [
        {
          "output_type": "execute_result",
          "data": {
            "text/plain": [
              "(404, 13)"
            ]
          },
          "metadata": {
            "tags": []
          },
          "execution_count": 3
        }
      ]
    },
    {
      "cell_type": "code",
      "metadata": {
        "id": "rLhm7_twbwtw"
      },
      "source": [
        "train_targets"
      ],
      "execution_count": null,
      "outputs": []
    },
    {
      "cell_type": "code",
      "metadata": {
        "colab": {
          "base_uri": "https://localhost:8080/"
        },
        "id": "lKJh3ttbb60Y",
        "outputId": "fc9aa3cb-d34e-4b47-bafe-72effe0ab1eb"
      },
      "source": [
        "test_data.shape"
      ],
      "execution_count": null,
      "outputs": [
        {
          "output_type": "execute_result",
          "data": {
            "text/plain": [
              "(102, 13)"
            ]
          },
          "metadata": {
            "tags": []
          },
          "execution_count": 5
        }
      ]
    },
    {
      "cell_type": "code",
      "metadata": {
        "colab": {
          "base_uri": "https://localhost:8080/"
        },
        "id": "aAb0rRmHcI3F",
        "outputId": "fcfb2f97-fc95-4a9f-a013-30c4b6a7a601"
      },
      "source": [
        "test_targets.shape"
      ],
      "execution_count": null,
      "outputs": [
        {
          "output_type": "execute_result",
          "data": {
            "text/plain": [
              "(102,)"
            ]
          },
          "metadata": {
            "tags": []
          },
          "execution_count": 6
        }
      ]
    },
    {
      "cell_type": "code",
      "metadata": {
        "id": "jafp7QX_cMoc"
      },
      "source": [
        "train_data"
      ],
      "execution_count": null,
      "outputs": []
    },
    {
      "cell_type": "code",
      "metadata": {
        "colab": {
          "base_uri": "https://localhost:8080/",
          "height": 265
        },
        "id": "fmnoL-1ScRVn",
        "outputId": "20c63978-410d-485c-ffc7-30ce4f5de2cc"
      },
      "source": [
        "import matplotlib.pyplot as plt \n",
        "\n",
        "plt.boxplot(train_data)\n",
        "plt.show()"
      ],
      "execution_count": null,
      "outputs": [
        {
          "output_type": "display_data",
          "data": {
            "image/png": "[encoded data removed]",
            "text/plain": [
              "<Figure size 432x288 with 1 Axes>"
            ]
          },
          "metadata": {
            "tags": [],
            "needs_background": "light"
          }
        }
      ]
    },
    {
      "cell_type": "code",
      "metadata": {
        "colab": {
          "base_uri": "https://localhost:8080/"
        },
        "id": "Dg8ERRtnccOd",
        "outputId": "ee69400f-db71-4b77-e50c-c26578c8ac03"
      },
      "source": [
        "mean = train_data.mean(axis=0)\n",
        "mean"
      ],
      "execution_count": null,
      "outputs": [
        {
          "output_type": "execute_result",
          "data": {
            "text/plain": [
              "array([3.74511057e+00, 1.14801980e+01, 1.11044307e+01, 6.18811881e-02,\n",
              "       5.57355941e-01, 6.26708168e+00, 6.90106436e+01, 3.74027079e+00,\n",
              "       9.44059406e+00, 4.05898515e+02, 1.84759901e+01, 3.54783168e+02,\n",
              "       1.27408168e+01])"
            ]
          },
          "metadata": {
            "tags": []
          },
          "execution_count": 11
        }
      ]
    },
    {
      "cell_type": "code",
      "metadata": {
        "id": "AGiS8ziUdNV5"
      },
      "source": [
        "train_data -= mean\n",
        "train_data"
      ],
      "execution_count": null,
      "outputs": []
    },
    {
      "cell_type": "code",
      "metadata": {
        "colab": {
          "base_uri": "https://localhost:8080/"
        },
        "id": "h5mq-0isdalc",
        "outputId": "3ac17161-3364-4efd-f5f6-80bd6dff40c0"
      },
      "source": [
        "std = train_data.std(axis=0)\n",
        "std"
      ],
      "execution_count": null,
      "outputs": [
        {
          "output_type": "execute_result",
          "data": {
            "text/plain": [
              "array([9.22929073e+00, 2.37382770e+01, 6.80287253e+00, 2.40939633e-01,\n",
              "       1.17147847e-01, 7.08908627e-01, 2.79060634e+01, 2.02770050e+00,\n",
              "       8.68758849e+00, 1.66168506e+02, 2.19765689e+00, 9.39946015e+01,\n",
              "       7.24556085e+00])"
            ]
          },
          "metadata": {
            "tags": []
          },
          "execution_count": 13
        }
      ]
    },
    {
      "cell_type": "code",
      "metadata": {
        "id": "jKAFnnuNdk0u"
      },
      "source": [
        "train_data /= std\n",
        "train_data"
      ],
      "execution_count": null,
      "outputs": []
    },
    {
      "cell_type": "code",
      "metadata": {
        "colab": {
          "base_uri": "https://localhost:8080/",
          "height": 265
        },
        "id": "CnMb8sFWdtUL",
        "outputId": "d8ef8483-f4d4-4548-f60b-90c0d42aadfe"
      },
      "source": [
        "plt.boxplot(train_data)\n",
        "plt.show()"
      ],
      "execution_count": null,
      "outputs": [
        {
          "output_type": "display_data",
          "data": {
            "image/png": "[encoded data removed]",
            "text/plain": [
              "<Figure size 432x288 with 1 Axes>"
            ]
          },
          "metadata": {
            "tags": [],
            "needs_background": "light"
          }
        }
      ]
    },
    {
      "cell_type": "code",
      "metadata": {
        "id": "0mgpRyqed096"
      },
      "source": [
        "test_data -= mean \n",
        "test_data /= std"
      ],
      "execution_count": null,
      "outputs": []
    },
    {
      "cell_type": "code",
      "metadata": {
        "id": "XhDCrCSXePX_"
      },
      "source": [
        "from keras import models \n",
        "from keras import layers \n",
        "\n",
        "# 모델\n",
        "model = models.Sequential() \n",
        "model.add(layers.Dense(64, activation='relu', input_shape=(train_data.shape[1],)))\n",
        "model.add(layers.Dense(64, activation='relu'))\n",
        "model.add(layers.Dense(1))\n",
        "\n",
        "#학습방법 \n",
        "model.compile(optimizer='rmsprop', loss='mse', metrics=['mae']) "
      ],
      "execution_count": null,
      "outputs": []
    },
    {
      "cell_type": "code",
      "metadata": {
        "colab": {
          "base_uri": "https://localhost:8080/"
        },
        "id": "AJC-5HvRf77P",
        "outputId": "774fc17e-1bd0-409f-e9bb-3d4b51101219"
      },
      "source": [
        "model.fit(train_data, train_targets, epochs=80, batch_size=16, validation_split=0.2)"
      ],
      "execution_count": null,
      "outputs": [
        {
          "output_type": "stream",
          "text": [
            "Epoch 1/80\n",
            "21/21 [==============================] - 0s 7ms/step - loss: 8.7086 - mae: 2.0205 - val_loss: 14.2492 - val_mae: 2.6655\n",
            "Epoch 2/80\n",
            "21/21 [==============================] - 0s 7ms/step - loss: 8.6347 - mae: 2.0297 - val_loss: 15.9121 - val_mae: 2.7178\n",
            "Epoch 3/80\n",
            "21/21 [==============================] - 0s 7ms/step - loss: 8.6213 - mae: 2.0316 - val_loss: 14.9670 - val_mae: 2.7269\n",
            "Epoch 4/80\n",
            "21/21 [==============================] - 0s 7ms/step - loss: 8.2548 - mae: 1.9751 - val_loss: 18.2617 - val_mae: 2.9345\n",
            "Epoch 5/80\n",
            "21/21 [==============================] - 0s 7ms/step - loss: 8.7344 - mae: 2.0962 - val_loss: 14.1858 - val_mae: 2.6487\n",
            "Epoch 6/80\n",
            "21/21 [==============================] - 0s 7ms/step - loss: 8.2387 - mae: 1.9751 - val_loss: 14.3524 - val_mae: 2.6418\n",
            "Epoch 7/80\n",
            "21/21 [==============================] - 0s 7ms/step - loss: 8.1828 - mae: 2.0225 - val_loss: 14.2206 - val_mae: 2.6597\n",
            "Epoch 8/80\n",
            "21/21 [==============================] - 0s 7ms/step - loss: 7.9677 - mae: 1.9981 - val_loss: 13.9377 - val_mae: 2.6117\n",
            "Epoch 9/80\n",
            "21/21 [==============================] - 0s 7ms/step - loss: 8.0237 - mae: 1.9410 - val_loss: 15.0605 - val_mae: 2.7049\n",
            "Epoch 10/80\n",
            "21/21 [==============================] - 0s 7ms/step - loss: 7.8628 - mae: 1.9220 - val_loss: 14.2726 - val_mae: 2.6936\n",
            "Epoch 11/80\n",
            "21/21 [==============================] - 0s 7ms/step - loss: 7.8371 - mae: 1.9442 - val_loss: 14.1477 - val_mae: 2.7393\n",
            "Epoch 12/80\n",
            "21/21 [==============================] - 0s 7ms/step - loss: 7.7987 - mae: 1.9328 - val_loss: 14.4695 - val_mae: 2.6683\n",
            "Epoch 13/80\n",
            "21/21 [==============================] - 0s 7ms/step - loss: 7.6151 - mae: 1.8746 - val_loss: 14.8800 - val_mae: 2.6526\n",
            "Epoch 14/80\n",
            "21/21 [==============================] - 0s 7ms/step - loss: 7.6397 - mae: 1.9009 - val_loss: 15.3908 - val_mae: 2.6985\n",
            "Epoch 15/80\n",
            "21/21 [==============================] - 0s 7ms/step - loss: 7.4708 - mae: 1.8927 - val_loss: 15.4306 - val_mae: 2.6760\n",
            "Epoch 16/80\n",
            "21/21 [==============================] - 0s 7ms/step - loss: 7.5639 - mae: 1.8943 - val_loss: 14.9959 - val_mae: 2.6213\n",
            "Epoch 17/80\n",
            "21/21 [==============================] - 0s 7ms/step - loss: 7.4085 - mae: 1.8773 - val_loss: 15.2381 - val_mae: 2.7270\n",
            "Epoch 18/80\n",
            "21/21 [==============================] - 0s 7ms/step - loss: 7.4552 - mae: 1.9110 - val_loss: 15.6073 - val_mae: 2.7484\n",
            "Epoch 19/80\n",
            "21/21 [==============================] - 0s 7ms/step - loss: 7.3875 - mae: 1.8859 - val_loss: 14.1455 - val_mae: 2.6240\n",
            "Epoch 20/80\n",
            "21/21 [==============================] - 0s 7ms/step - loss: 7.1937 - mae: 1.8278 - val_loss: 14.2661 - val_mae: 2.5833\n",
            "Epoch 21/80\n",
            "21/21 [==============================] - 0s 7ms/step - loss: 7.2414 - mae: 1.8679 - val_loss: 14.9118 - val_mae: 2.5901\n",
            "Epoch 22/80\n",
            "21/21 [==============================] - 0s 7ms/step - loss: 7.1810 - mae: 1.8565 - val_loss: 14.1742 - val_mae: 2.6522\n",
            "Epoch 23/80\n",
            "21/21 [==============================] - 0s 7ms/step - loss: 7.2064 - mae: 1.8178 - val_loss: 15.8452 - val_mae: 2.7551\n",
            "Epoch 24/80\n",
            "21/21 [==============================] - 0s 7ms/step - loss: 6.9418 - mae: 1.8415 - val_loss: 15.0774 - val_mae: 2.7073\n",
            "Epoch 25/80\n",
            "21/21 [==============================] - 0s 7ms/step - loss: 7.0706 - mae: 1.8459 - val_loss: 14.8082 - val_mae: 2.6789\n",
            "Epoch 26/80\n",
            "21/21 [==============================] - 0s 7ms/step - loss: 7.0679 - mae: 1.8434 - val_loss: 14.6763 - val_mae: 2.6309\n",
            "Epoch 27/80\n",
            "21/21 [==============================] - 0s 7ms/step - loss: 7.0165 - mae: 1.8082 - val_loss: 15.5050 - val_mae: 2.6355\n",
            "Epoch 28/80\n",
            "21/21 [==============================] - 0s 7ms/step - loss: 6.9607 - mae: 1.7636 - val_loss: 15.3675 - val_mae: 2.6174\n",
            "Epoch 29/80\n",
            "21/21 [==============================] - 0s 7ms/step - loss: 6.7850 - mae: 1.7965 - val_loss: 15.7690 - val_mae: 2.7345\n",
            "Epoch 30/80\n",
            "21/21 [==============================] - 0s 7ms/step - loss: 6.7951 - mae: 1.7973 - val_loss: 15.2353 - val_mae: 2.8413\n",
            "Epoch 31/80\n",
            "21/21 [==============================] - 0s 7ms/step - loss: 6.7700 - mae: 1.7905 - val_loss: 14.4226 - val_mae: 2.6030\n",
            "Epoch 32/80\n",
            "21/21 [==============================] - 0s 7ms/step - loss: 6.6660 - mae: 1.7517 - val_loss: 15.4746 - val_mae: 2.6454\n",
            "Epoch 33/80\n",
            "21/21 [==============================] - 0s 7ms/step - loss: 6.6418 - mae: 1.7834 - val_loss: 14.7816 - val_mae: 2.6213\n",
            "Epoch 34/80\n",
            "21/21 [==============================] - 0s 7ms/step - loss: 6.4530 - mae: 1.7505 - val_loss: 14.6905 - val_mae: 2.6134\n",
            "Epoch 35/80\n",
            "21/21 [==============================] - 0s 7ms/step - loss: 6.2087 - mae: 1.6987 - val_loss: 14.6401 - val_mae: 2.7682\n",
            "Epoch 36/80\n",
            "21/21 [==============================] - 0s 7ms/step - loss: 6.5159 - mae: 1.6921 - val_loss: 16.6005 - val_mae: 2.7720\n",
            "Epoch 37/80\n",
            "21/21 [==============================] - 0s 7ms/step - loss: 6.5749 - mae: 1.7653 - val_loss: 15.5546 - val_mae: 2.6524\n",
            "Epoch 38/80\n",
            "21/21 [==============================] - 0s 6ms/step - loss: 6.3043 - mae: 1.7221 - val_loss: 17.5548 - val_mae: 2.7569\n",
            "Epoch 39/80\n",
            "21/21 [==============================] - 0s 8ms/step - loss: 6.4003 - mae: 1.7824 - val_loss: 15.0359 - val_mae: 2.6062\n",
            "Epoch 40/80\n",
            "21/21 [==============================] - 0s 7ms/step - loss: 6.3957 - mae: 1.7313 - val_loss: 15.2760 - val_mae: 2.6220\n",
            "Epoch 41/80\n",
            "21/21 [==============================] - 0s 7ms/step - loss: 6.1382 - mae: 1.7119 - val_loss: 16.9946 - val_mae: 2.7768\n",
            "Epoch 42/80\n",
            "21/21 [==============================] - 0s 6ms/step - loss: 6.3191 - mae: 1.7273 - val_loss: 15.1884 - val_mae: 2.6930\n",
            "Epoch 43/80\n",
            "21/21 [==============================] - 0s 7ms/step - loss: 6.2323 - mae: 1.7113 - val_loss: 15.9920 - val_mae: 2.7018\n",
            "Epoch 44/80\n",
            "21/21 [==============================] - 0s 6ms/step - loss: 6.1165 - mae: 1.7056 - val_loss: 15.3754 - val_mae: 2.6602\n",
            "Epoch 45/80\n",
            "21/21 [==============================] - 0s 6ms/step - loss: 5.9518 - mae: 1.6675 - val_loss: 16.4038 - val_mae: 2.6356\n",
            "Epoch 46/80\n",
            "21/21 [==============================] - 0s 7ms/step - loss: 6.0519 - mae: 1.6923 - val_loss: 17.4541 - val_mae: 2.9180\n",
            "Epoch 47/80\n",
            "21/21 [==============================] - 0s 7ms/step - loss: 6.0308 - mae: 1.7144 - val_loss: 14.9481 - val_mae: 2.6523\n",
            "Epoch 48/80\n",
            "21/21 [==============================] - 0s 7ms/step - loss: 5.8917 - mae: 1.6548 - val_loss: 14.9160 - val_mae: 2.7309\n",
            "Epoch 49/80\n",
            "21/21 [==============================] - 0s 7ms/step - loss: 6.0558 - mae: 1.6796 - val_loss: 15.2821 - val_mae: 2.6391\n",
            "Epoch 50/80\n",
            "21/21 [==============================] - 0s 7ms/step - loss: 5.8254 - mae: 1.6483 - val_loss: 15.8696 - val_mae: 2.9439\n",
            "Epoch 51/80\n",
            "21/21 [==============================] - 0s 7ms/step - loss: 6.0648 - mae: 1.6915 - val_loss: 16.2212 - val_mae: 2.7235\n",
            "Epoch 52/80\n",
            "21/21 [==============================] - 0s 7ms/step - loss: 5.9537 - mae: 1.6791 - val_loss: 15.5562 - val_mae: 2.7232\n",
            "Epoch 53/80\n",
            "21/21 [==============================] - 0s 7ms/step - loss: 5.7879 - mae: 1.6574 - val_loss: 14.7622 - val_mae: 2.6279\n",
            "Epoch 54/80\n",
            "21/21 [==============================] - 0s 7ms/step - loss: 5.7716 - mae: 1.6293 - val_loss: 16.4428 - val_mae: 2.6817\n",
            "Epoch 55/80\n",
            "21/21 [==============================] - 0s 6ms/step - loss: 5.7901 - mae: 1.6588 - val_loss: 15.7506 - val_mae: 2.6473\n",
            "Epoch 56/80\n",
            "21/21 [==============================] - 0s 7ms/step - loss: 5.5932 - mae: 1.6000 - val_loss: 19.4437 - val_mae: 2.8471\n",
            "Epoch 57/80\n",
            "21/21 [==============================] - 0s 7ms/step - loss: 5.9014 - mae: 1.6760 - val_loss: 15.4925 - val_mae: 2.6375\n",
            "Epoch 58/80\n",
            "21/21 [==============================] - 0s 7ms/step - loss: 5.7350 - mae: 1.6560 - val_loss: 16.1087 - val_mae: 2.6110\n",
            "Epoch 59/80\n",
            "21/21 [==============================] - 0s 7ms/step - loss: 5.4843 - mae: 1.6096 - val_loss: 16.2176 - val_mae: 2.6127\n",
            "Epoch 60/80\n",
            "21/21 [==============================] - 0s 7ms/step - loss: 5.4842 - mae: 1.5924 - val_loss: 15.8362 - val_mae: 2.6772\n",
            "Epoch 61/80\n",
            "21/21 [==============================] - 0s 7ms/step - loss: 5.3678 - mae: 1.5866 - val_loss: 15.6447 - val_mae: 2.6703\n",
            "Epoch 62/80\n",
            "21/21 [==============================] - 0s 6ms/step - loss: 5.5190 - mae: 1.5492 - val_loss: 15.3450 - val_mae: 2.6082\n",
            "Epoch 63/80\n",
            "21/21 [==============================] - 0s 6ms/step - loss: 5.6740 - mae: 1.6298 - val_loss: 15.8405 - val_mae: 2.6552\n",
            "Epoch 64/80\n",
            "21/21 [==============================] - 0s 7ms/step - loss: 5.4936 - mae: 1.6042 - val_loss: 16.0544 - val_mae: 2.8153\n",
            "Epoch 65/80\n",
            "21/21 [==============================] - 0s 7ms/step - loss: 5.4323 - mae: 1.6027 - val_loss: 15.8586 - val_mae: 2.7295\n",
            "Epoch 66/80\n",
            "21/21 [==============================] - 0s 7ms/step - loss: 5.3192 - mae: 1.6141 - val_loss: 16.3167 - val_mae: 2.6515\n",
            "Epoch 67/80\n",
            "21/21 [==============================] - 0s 7ms/step - loss: 5.2206 - mae: 1.5420 - val_loss: 17.1771 - val_mae: 2.8953\n",
            "Epoch 68/80\n",
            "21/21 [==============================] - 0s 7ms/step - loss: 5.4472 - mae: 1.5916 - val_loss: 18.1985 - val_mae: 2.7953\n",
            "Epoch 69/80\n",
            "21/21 [==============================] - 0s 7ms/step - loss: 5.2263 - mae: 1.5907 - val_loss: 18.3783 - val_mae: 2.7395\n",
            "Epoch 70/80\n",
            "21/21 [==============================] - 0s 7ms/step - loss: 5.1929 - mae: 1.5541 - val_loss: 17.7562 - val_mae: 2.7602\n",
            "Epoch 71/80\n",
            "21/21 [==============================] - 0s 6ms/step - loss: 5.5086 - mae: 1.6162 - val_loss: 16.2924 - val_mae: 2.6504\n",
            "Epoch 72/80\n",
            "21/21 [==============================] - 0s 7ms/step - loss: 5.2471 - mae: 1.5800 - val_loss: 17.2466 - val_mae: 2.7147\n",
            "Epoch 73/80\n",
            "21/21 [==============================] - 0s 7ms/step - loss: 5.1922 - mae: 1.5914 - val_loss: 17.9501 - val_mae: 2.6641\n",
            "Epoch 74/80\n",
            "21/21 [==============================] - 0s 7ms/step - loss: 5.2604 - mae: 1.5682 - val_loss: 15.3393 - val_mae: 2.7089\n",
            "Epoch 75/80\n",
            "21/21 [==============================] - 0s 7ms/step - loss: 5.1477 - mae: 1.5429 - val_loss: 15.3569 - val_mae: 2.6846\n",
            "Epoch 76/80\n",
            "21/21 [==============================] - 0s 7ms/step - loss: 5.3075 - mae: 1.5381 - val_loss: 15.6489 - val_mae: 2.6197\n",
            "Epoch 77/80\n",
            "21/21 [==============================] - 0s 7ms/step - loss: 4.9675 - mae: 1.5455 - val_loss: 15.3871 - val_mae: 2.7349\n",
            "Epoch 78/80\n",
            "21/21 [==============================] - 0s 7ms/step - loss: 5.0576 - mae: 1.5259 - val_loss: 15.4179 - val_mae: 2.5762\n",
            "Epoch 79/80\n",
            "21/21 [==============================] - 0s 7ms/step - loss: 5.0012 - mae: 1.5299 - val_loss: 17.4895 - val_mae: 2.7245\n",
            "Epoch 80/80\n",
            "21/21 [==============================] - 0s 7ms/step - loss: 5.0292 - mae: 1.5538 - val_loss: 16.7650 - val_mae: 2.6635\n"
          ],
          "name": "stdout"
        },
        {
          "output_type": "execute_result",
          "data": {
            "text/plain": [
              "<tensorflow.python.keras.callbacks.History at 0x7f848d95bd10>"
            ]
          },
          "metadata": {
            "tags": []
          },
          "execution_count": 21
        }
      ]
    },
    {
      "cell_type": "code",
      "metadata": {
        "colab": {
          "base_uri": "https://localhost:8080/"
        },
        "id": "dJ12Oqzhgcbs",
        "outputId": "bed922c0-307d-4e26-93de-2a71cfe0292d"
      },
      "source": [
        "# 평가 \n",
        "\n",
        "model.evaluate(test_data, test_targets)"
      ],
      "execution_count": null,
      "outputs": [
        {
          "output_type": "stream",
          "text": [
            "4/4 [==============================] - 0s 4ms/step - loss: 24.0342 - mae: 2.9797\n"
          ],
          "name": "stdout"
        },
        {
          "output_type": "execute_result",
          "data": {
            "text/plain": [
              "[24.03424835205078, 2.9796855449676514]"
            ]
          },
          "metadata": {
            "tags": []
          },
          "execution_count": 22
        }
      ]
    },
    {
      "cell_type": "code",
      "metadata": {
        "id": "nCScJF9zi4mF"
      },
      "source": [
        ""
      ],
      "execution_count": null,
      "outputs": []
    }
  ]
}