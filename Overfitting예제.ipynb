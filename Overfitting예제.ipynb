{
  "nbformat": 4,
  "nbformat_minor": 0,
  "metadata": {
    "accelerator": "GPU",
    "colab": {
      "name": "Overfitting예제.ipynb",
      "provenance": [],
      "collapsed_sections": []
    },
    "kernelspec": {
      "display_name": "Python 3",
      "language": "python",
      "name": "python3"
    },
    "language_info": {
      "codemirror_mode": {
        "name": "ipython",
        "version": 3
      },
      "file_extension": ".py",
      "mimetype": "text/x-python",
      "name": "python",
      "nbconvert_exporter": "python",
      "pygments_lexer": "ipython3",
      "version": "3.6.5"
    }
  },
  "cells": [
    {
      "cell_type": "markdown",
      "metadata": {
        "id": "IH8bD4yQz46Q"
      },
      "source": [
        "# Overfitting & Underfitting\n"
      ]
    },
    {
      "cell_type": "code",
      "metadata": {
        "colab": {
          "base_uri": "https://localhost:8080/"
        },
        "id": "rMBSWJNPz46R",
        "outputId": "2ebc50e2-95b8-4319-c9e5-b3fd9ad377a7"
      },
      "source": [
        "from keras.datasets import imdb\n",
        "import numpy as np\n",
        "\n",
        "(train_data, train_labels), (test_data, test_labels) = imdb.load_data(num_words=10000)\n",
        "\n",
        "def vectorize_seq(seq, dimension=10000):\n",
        "    results = np.zeros((len(seq), dimension))\n",
        "    for i, seq in enumerate(seq):\n",
        "        results[i, seq] = 1.   \n",
        "    return results\n",
        "\n",
        "x_train = vectorize_seq(train_data)\n",
        "x_test = vectorize_seq(test_data)\n",
        "\n",
        "y_train = np.asarray(train_labels).astype('float32')\n",
        "y_test = np.asarray(test_labels).astype('float32')"
      ],
      "execution_count": null,
      "outputs": [
        {
          "output_type": "stream",
          "text": [
            "Downloading data from https://storage.googleapis.com/tensorflow/tf-keras-datasets/imdb.npz\n",
            "17465344/17464789 [==============================] - 0s 0us/step\n"
          ],
          "name": "stdout"
        },
        {
          "output_type": "stream",
          "text": [
            "<string>:6: VisibleDeprecationWarning: Creating an ndarray from ragged nested sequences (which is a list-or-tuple of lists-or-tuples-or ndarrays with different lengths or shapes) is deprecated. If you meant to do this, you must specify 'dtype=object' when creating the ndarray\n",
            "/usr/local/lib/python3.7/dist-packages/tensorflow/python/keras/datasets/imdb.py:159: VisibleDeprecationWarning: Creating an ndarray from ragged nested sequences (which is a list-or-tuple of lists-or-tuples-or ndarrays with different lengths or shapes) is deprecated. If you meant to do this, you must specify 'dtype=object' when creating the ndarray\n",
            "  x_train, y_train = np.array(xs[:idx]), np.array(labels[:idx])\n",
            "/usr/local/lib/python3.7/dist-packages/tensorflow/python/keras/datasets/imdb.py:160: VisibleDeprecationWarning: Creating an ndarray from ragged nested sequences (which is a list-or-tuple of lists-or-tuples-or ndarrays with different lengths or shapes) is deprecated. If you meant to do this, you must specify 'dtype=object' when creating the ndarray\n",
            "  x_test, y_test = np.array(xs[idx:]), np.array(labels[idx:])\n"
          ],
          "name": "stderr"
        }
      ]
    },
    {
      "cell_type": "markdown",
      "metadata": {
        "id": "BoDaJNQEz46U"
      },
      "source": [
        "# 과대적합\n",
        "\n",
        "## 네트워크 크기 축소\n",
        "\n",
        "imdb 의 영화리뷰 분류문제의 원래 네트워크"
      ]
    },
    {
      "cell_type": "code",
      "metadata": {
        "id": "eekmpPccz46U"
      },
      "source": [
        "from keras import models\n",
        "from keras import layers\n",
        "\n",
        "original_model = models.Sequential()\n",
        "original_model.add(layers.Dense(16, activation='relu', input_shape=(10000,)))\n",
        "original_model.add(layers.Dense(16, activation='relu'))\n",
        "original_model.add(layers.Dense(1, activation='sigmoid'))\n",
        "\n",
        "original_model.compile(optimizer='rmsprop',\n",
        "                       loss='binary_crossentropy',\n",
        "                       metrics=['acc'])"
      ],
      "execution_count": null,
      "outputs": []
    },
    {
      "cell_type": "markdown",
      "metadata": {
        "id": "54w2PnJoz46X"
      },
      "source": [
        "더 작은 네트워크 "
      ]
    },
    {
      "cell_type": "code",
      "metadata": {
        "id": "odK69Tvfz46Y"
      },
      "source": [
        "smaller_model = models.Sequential()\n",
        "smaller_model.add(layers.Dense(6, activation='relu', input_shape=(10000,)))\n",
        "smaller_model.add(layers.Dense(6, activation='relu'))\n",
        "smaller_model.add(layers.Dense(1, activation='sigmoid'))\n",
        "\n",
        "smaller_model.compile(optimizer='rmsprop',\n",
        "                      loss='binary_crossentropy',\n",
        "                      metrics=['acc'])"
      ],
      "execution_count": null,
      "outputs": []
    },
    {
      "cell_type": "code",
      "metadata": {
        "colab": {
          "base_uri": "https://localhost:8080/"
        },
        "id": "4i7-6-j2z46b",
        "scrolled": true,
        "outputId": "09a09780-ad39-4dec-d8bd-4a2aafc9918b"
      },
      "source": [
        "original_hist = original_model.fit(x_train, y_train,\n",
        "                                   epochs=20,\n",
        "                                   batch_size=512,\n",
        "                                   validation_data=(x_test, y_test))"
      ],
      "execution_count": null,
      "outputs": [
        {
          "output_type": "stream",
          "text": [
            "Epoch 1/20\n",
            "49/49 [==============================] - 5s 38ms/step - loss: 0.5896 - acc: 0.6844 - val_loss: 0.3685 - val_acc: 0.8749\n",
            "Epoch 2/20\n",
            "49/49 [==============================] - 1s 23ms/step - loss: 0.2981 - acc: 0.9069 - val_loss: 0.2950 - val_acc: 0.8866\n",
            "Epoch 3/20\n",
            "49/49 [==============================] - 1s 23ms/step - loss: 0.2195 - acc: 0.9268 - val_loss: 0.2822 - val_acc: 0.8890\n",
            "Epoch 4/20\n",
            "49/49 [==============================] - 1s 23ms/step - loss: 0.1667 - acc: 0.9451 - val_loss: 0.3024 - val_acc: 0.8812\n",
            "Epoch 5/20\n",
            "49/49 [==============================] - 1s 23ms/step - loss: 0.1454 - acc: 0.9509 - val_loss: 0.3072 - val_acc: 0.8822\n",
            "Epoch 6/20\n",
            "49/49 [==============================] - 1s 23ms/step - loss: 0.1231 - acc: 0.9602 - val_loss: 0.3361 - val_acc: 0.8754\n",
            "Epoch 7/20\n",
            "49/49 [==============================] - 1s 23ms/step - loss: 0.1089 - acc: 0.9641 - val_loss: 0.3485 - val_acc: 0.8748\n",
            "Epoch 8/20\n",
            "49/49 [==============================] - 1s 23ms/step - loss: 0.0963 - acc: 0.9695 - val_loss: 0.3720 - val_acc: 0.8724\n",
            "Epoch 9/20\n",
            "49/49 [==============================] - 1s 22ms/step - loss: 0.0798 - acc: 0.9751 - val_loss: 0.3974 - val_acc: 0.8674\n",
            "Epoch 10/20\n",
            "49/49 [==============================] - 1s 23ms/step - loss: 0.0735 - acc: 0.9774 - val_loss: 0.4765 - val_acc: 0.8519\n",
            "Epoch 11/20\n",
            "49/49 [==============================] - 1s 23ms/step - loss: 0.0710 - acc: 0.9774 - val_loss: 0.4576 - val_acc: 0.8616\n",
            "Epoch 12/20\n",
            "49/49 [==============================] - 1s 22ms/step - loss: 0.0593 - acc: 0.9832 - val_loss: 0.4811 - val_acc: 0.8616\n",
            "Epoch 13/20\n",
            "49/49 [==============================] - 1s 23ms/step - loss: 0.0518 - acc: 0.9853 - val_loss: 0.5429 - val_acc: 0.8496\n",
            "Epoch 14/20\n",
            "49/49 [==============================] - 1s 23ms/step - loss: 0.0463 - acc: 0.9881 - val_loss: 0.5453 - val_acc: 0.8578\n",
            "Epoch 15/20\n",
            "49/49 [==============================] - 1s 23ms/step - loss: 0.0389 - acc: 0.9904 - val_loss: 0.5829 - val_acc: 0.8545\n",
            "Epoch 16/20\n",
            "49/49 [==============================] - 1s 22ms/step - loss: 0.0323 - acc: 0.9915 - val_loss: 0.6134 - val_acc: 0.8567\n",
            "Epoch 17/20\n",
            "49/49 [==============================] - 1s 22ms/step - loss: 0.0282 - acc: 0.9936 - val_loss: 0.6418 - val_acc: 0.8518\n",
            "Epoch 18/20\n",
            "49/49 [==============================] - 1s 22ms/step - loss: 0.0241 - acc: 0.9951 - val_loss: 0.6825 - val_acc: 0.8493\n",
            "Epoch 19/20\n",
            "49/49 [==============================] - 1s 23ms/step - loss: 0.0190 - acc: 0.9961 - val_loss: 0.7096 - val_acc: 0.8502\n",
            "Epoch 20/20\n",
            "49/49 [==============================] - 1s 23ms/step - loss: 0.0190 - acc: 0.9960 - val_loss: 0.7527 - val_acc: 0.8503\n"
          ],
          "name": "stdout"
        }
      ]
    },
    {
      "cell_type": "code",
      "metadata": {
        "colab": {
          "base_uri": "https://localhost:8080/"
        },
        "id": "Vnsy2NrBz46d",
        "outputId": "218e20c2-775b-4ff1-a09b-44792a0479a8"
      },
      "source": [
        "smaller_model_hist = smaller_model.fit(x_train, y_train,\n",
        "                                       epochs=20,\n",
        "                                       batch_size=512,\n",
        "                                       validation_data=(x_test, y_test))"
      ],
      "execution_count": null,
      "outputs": [
        {
          "output_type": "stream",
          "text": [
            "Epoch 1/20\n",
            "49/49 [==============================] - 2s 34ms/step - loss: 0.6100 - acc: 0.7177 - val_loss: 0.4406 - val_acc: 0.8676\n",
            "Epoch 2/20\n",
            "49/49 [==============================] - 1s 23ms/step - loss: 0.3775 - acc: 0.8955 - val_loss: 0.3360 - val_acc: 0.8812\n",
            "Epoch 3/20\n",
            "49/49 [==============================] - 1s 22ms/step - loss: 0.2743 - acc: 0.9138 - val_loss: 0.2950 - val_acc: 0.8872\n",
            "Epoch 4/20\n",
            "49/49 [==============================] - 1s 22ms/step - loss: 0.2155 - acc: 0.9288 - val_loss: 0.2828 - val_acc: 0.8880\n",
            "Epoch 5/20\n",
            "49/49 [==============================] - 1s 22ms/step - loss: 0.1808 - acc: 0.9396 - val_loss: 0.2809 - val_acc: 0.8882\n",
            "Epoch 6/20\n",
            "49/49 [==============================] - 1s 22ms/step - loss: 0.1572 - acc: 0.9482 - val_loss: 0.2909 - val_acc: 0.8843\n",
            "Epoch 7/20\n",
            "49/49 [==============================] - 1s 22ms/step - loss: 0.1404 - acc: 0.9557 - val_loss: 0.3029 - val_acc: 0.8820\n",
            "Epoch 8/20\n",
            "49/49 [==============================] - 1s 22ms/step - loss: 0.1268 - acc: 0.9577 - val_loss: 0.3155 - val_acc: 0.8788\n",
            "Epoch 9/20\n",
            "49/49 [==============================] - 1s 22ms/step - loss: 0.1130 - acc: 0.9642 - val_loss: 0.3497 - val_acc: 0.8707\n",
            "Epoch 10/20\n",
            "49/49 [==============================] - 1s 22ms/step - loss: 0.1067 - acc: 0.9652 - val_loss: 0.3511 - val_acc: 0.8726\n",
            "Epoch 11/20\n",
            "49/49 [==============================] - 1s 22ms/step - loss: 0.0922 - acc: 0.9722 - val_loss: 0.3714 - val_acc: 0.8696\n",
            "Epoch 12/20\n",
            "49/49 [==============================] - 1s 22ms/step - loss: 0.0880 - acc: 0.9730 - val_loss: 0.3885 - val_acc: 0.8694\n",
            "Epoch 13/20\n",
            "49/49 [==============================] - 1s 22ms/step - loss: 0.0757 - acc: 0.9780 - val_loss: 0.4115 - val_acc: 0.8649\n",
            "Epoch 14/20\n",
            "49/49 [==============================] - 1s 22ms/step - loss: 0.0717 - acc: 0.9793 - val_loss: 0.4314 - val_acc: 0.8641\n",
            "Epoch 15/20\n",
            "49/49 [==============================] - 1s 22ms/step - loss: 0.0689 - acc: 0.9806 - val_loss: 0.4549 - val_acc: 0.8636\n",
            "Epoch 16/20\n",
            "49/49 [==============================] - 1s 23ms/step - loss: 0.0611 - acc: 0.9840 - val_loss: 0.4766 - val_acc: 0.8612\n",
            "Epoch 17/20\n",
            "49/49 [==============================] - 1s 22ms/step - loss: 0.0570 - acc: 0.9855 - val_loss: 0.5021 - val_acc: 0.8584\n",
            "Epoch 18/20\n",
            "49/49 [==============================] - 1s 23ms/step - loss: 0.0493 - acc: 0.9881 - val_loss: 0.5291 - val_acc: 0.8564\n",
            "Epoch 19/20\n",
            "49/49 [==============================] - 1s 23ms/step - loss: 0.0455 - acc: 0.9895 - val_loss: 0.5512 - val_acc: 0.8559\n",
            "Epoch 20/20\n",
            "49/49 [==============================] - 1s 22ms/step - loss: 0.0405 - acc: 0.9911 - val_loss: 0.5873 - val_acc: 0.8507\n"
          ],
          "name": "stdout"
        }
      ]
    },
    {
      "cell_type": "code",
      "metadata": {
        "id": "ueRZXE22z46f"
      },
      "source": [
        "epochs = range(1, 21)\n",
        "original_val_loss = original_hist.history['val_loss']\n",
        "smaller_model_val_loss = smaller_model_hist.history['val_loss']"
      ],
      "execution_count": null,
      "outputs": []
    },
    {
      "cell_type": "code",
      "metadata": {
        "id": "RohdXsEJz46g"
      },
      "source": [
        "import matplotlib.pyplot as plt"
      ],
      "execution_count": null,
      "outputs": []
    },
    {
      "cell_type": "code",
      "metadata": {
        "colab": {
          "base_uri": "https://localhost:8080/",
          "height": 279
        },
        "id": "eshqLDQhz46i",
        "scrolled": true,
        "outputId": "3f025bc2-844b-4728-d6ff-ce39a4b84bd9"
      },
      "source": [
        "plt.plot(epochs, original_val_loss, label='Original model')\n",
        "plt.plot(epochs, smaller_model_val_loss, label='Smaller model')\n",
        "plt.xlabel('Epochs')\n",
        "plt.ylabel('Validation loss')\n",
        "plt.legend()\n",
        "\n",
        "plt.show()"
      ],
      "execution_count": null,
      "outputs": [
        {
          "output_type": "display_data",
          "data": {
            "image/png": "[encoded data removed]",
            "text/plain": [
              "<Figure size 432x288 with 1 Axes>"
            ]
          },
          "metadata": {
            "tags": []
          }
        }
      ]
    },
    {
      "cell_type": "markdown",
      "metadata": {
        "id": "q2_cSnffz46k"
      },
      "source": [
        "과도하게 큰 용량을 가진 네트워크 "
      ]
    },
    {
      "cell_type": "code",
      "metadata": {
        "id": "vO9FiXSWz46k"
      },
      "source": [
        "bigger_model = models.Sequential()\n",
        "bigger_model.add(layers.Dense(1024, activation='relu', input_shape=(10000,)))\n",
        "bigger_model.add(layers.Dense(1024, activation='relu'))\n",
        "bigger_model.add(layers.Dense(1, activation='sigmoid'))\n",
        "\n",
        "bigger_model.compile(optimizer='rmsprop',\n",
        "                     loss='binary_crossentropy',\n",
        "                     metrics=['acc'])"
      ],
      "execution_count": null,
      "outputs": []
    },
    {
      "cell_type": "code",
      "metadata": {
        "colab": {
          "background_save": true,
          "base_uri": "https://localhost:8080/"
        },
        "id": "hzAx6G8az46m",
        "outputId": "d9df30d3-247a-4235-97e7-a62b08f145ed"
      },
      "source": [
        "bigger_model_hist = bigger_model.fit(x_train, y_train,\n",
        "                                     epochs=20,\n",
        "                                     batch_size=512,\n",
        "                                     validation_data=(x_test, y_test))"
      ],
      "execution_count": null,
      "outputs": [
        {
          "output_type": "stream",
          "text": [
            "Epoch 1/20\n",
            "49/49 [==============================] - 29s 594ms/step - loss: 0.8702 - acc: 0.7262 - val_loss: 0.2935 - val_acc: 0.8796\n",
            "Epoch 2/20\n",
            "49/49 [==============================] - 29s 589ms/step - loss: 0.2356 - acc: 0.9036 - val_loss: 0.2842 - val_acc: 0.8880\n",
            "Epoch 3/20\n",
            "49/49 [==============================] - 29s 588ms/step - loss: 0.1230 - acc: 0.9558 - val_loss: 0.3669 - val_acc: 0.8787\n",
            "Epoch 4/20\n",
            "49/49 [==============================] - 29s 591ms/step - loss: 0.0607 - acc: 0.9827 - val_loss: 1.7705 - val_acc: 0.6739\n",
            "Epoch 5/20\n",
            "49/49 [==============================] - 29s 591ms/step - loss: 0.0824 - acc: 0.9756 - val_loss: 0.6942 - val_acc: 0.8659\n",
            "Epoch 6/20\n",
            "49/49 [==============================] - 29s 593ms/step - loss: 4.0970e-04 - acc: 1.0000 - val_loss: 0.8159 - val_acc: 0.8802\n",
            "Epoch 7/20\n",
            "49/49 [==============================] - 29s 592ms/step - loss: 1.5918e-05 - acc: 1.0000 - val_loss: 1.0176 - val_acc: 0.8780\n",
            "Epoch 8/20\n",
            "49/49 [==============================] - 29s 593ms/step - loss: 0.0269 - acc: 0.9986 - val_loss: 0.9280 - val_acc: 0.8522\n",
            "Epoch 9/20\n",
            "49/49 [==============================] - 29s 591ms/step - loss: 5.7616e-04 - acc: 1.0000 - val_loss: 0.7440 - val_acc: 0.8791\n",
            "Epoch 10/20\n",
            "49/49 [==============================] - 29s 590ms/step - loss: 1.3457e-05 - acc: 1.0000 - val_loss: 0.8023 - val_acc: 0.8801\n",
            "Epoch 11/20\n",
            "49/49 [==============================] - 28s 583ms/step - loss: 3.6237e-06 - acc: 1.0000 - val_loss: 0.8959 - val_acc: 0.8808\n",
            "Epoch 12/20\n",
            "49/49 [==============================] - 28s 584ms/step - loss: 8.8377e-07 - acc: 1.0000 - val_loss: 1.0193 - val_acc: 0.8801\n",
            "Epoch 13/20\n",
            "49/49 [==============================] - 28s 584ms/step - loss: 1.8508e-07 - acc: 1.0000 - val_loss: 1.1420 - val_acc: 0.8810\n",
            "Epoch 14/20\n",
            "49/49 [==============================] - 28s 583ms/step - loss: 4.5205e-08 - acc: 1.0000 - val_loss: 1.2309 - val_acc: 0.8814\n",
            "Epoch 15/20\n",
            "49/49 [==============================] - 28s 583ms/step - loss: 1.6386e-08 - acc: 1.0000 - val_loss: 1.2791 - val_acc: 0.8815\n",
            "Epoch 16/20\n",
            "49/49 [==============================] - 28s 583ms/step - loss: 1.0640e-08 - acc: 1.0000 - val_loss: 1.3090 - val_acc: 0.8816\n",
            "Epoch 17/20\n",
            "49/49 [==============================] - 29s 586ms/step - loss: 7.1799e-09 - acc: 1.0000 - val_loss: 1.3302 - val_acc: 0.8814\n",
            "Epoch 18/20\n",
            "49/49 [==============================] - 28s 583ms/step - loss: 5.4505e-09 - acc: 1.0000 - val_loss: 1.3458 - val_acc: 0.8814\n",
            "Epoch 19/20\n",
            "49/49 [==============================] - 28s 584ms/step - loss: 4.7398e-09 - acc: 1.0000 - val_loss: 1.3585 - val_acc: 0.8817\n",
            "Epoch 20/20\n",
            "49/49 [==============================] - 28s 582ms/step - loss: 3.9698e-09 - acc: 1.0000 - val_loss: 1.3690 - val_acc: 0.8818\n"
          ],
          "name": "stdout"
        }
      ]
    },
    {
      "cell_type": "code",
      "metadata": {
        "colab": {
          "background_save": true,
          "base_uri": "https://localhost:8080/",
          "height": 279
        },
        "id": "annYVdqWz46p",
        "outputId": "835a60f8-7527-4134-9d0e-4195bbcddf3c"
      },
      "source": [
        "bigger_model_val_loss = bigger_model_hist.history['val_loss']\n",
        "\n",
        "plt.plot(epochs, original_val_loss, label='Original model')\n",
        "plt.plot(epochs, bigger_model_val_loss, label='Bigger model')\n",
        "plt.xlabel('Epochs')\n",
        "plt.ylabel('Validation loss')\n",
        "plt.legend()\n",
        "\n",
        "plt.show()"
      ],
      "execution_count": null,
      "outputs": [
        {
          "output_type": "display_data",
          "data": {
            "image/png": "[encoded data removed]",
            "text/plain": [
              "<Figure size 432x288 with 1 Axes>"
            ]
          },
          "metadata": {
            "tags": []
          }
        }
      ]
    },
    {
      "cell_type": "markdown",
      "metadata": {
        "id": "cd45SCSfz46r"
      },
      "source": [
        "1번째 epoch 이후 거의 바로 과대적합\n",
        "갈수록 더 심해짐. \n",
        "검증 손실도 매우 불안정\n"
      ]
    },
    {
      "cell_type": "code",
      "metadata": {
        "colab": {
          "background_save": true,
          "base_uri": "https://localhost:8080/",
          "height": 279
        },
        "id": "KVmlhiqgz46r",
        "outputId": "ea3b987d-db57-4967-fc83-51d23c91391d"
      },
      "source": [
        "original_train_loss = original_hist.history['loss']\n",
        "bigger_model_train_loss = bigger_model_hist.history['loss']\n",
        "\n",
        "plt.plot(epochs, original_train_loss, label='Original model')\n",
        "plt.plot(epochs, bigger_model_train_loss, label='Bigger model')\n",
        "plt.xlabel('Epochs')\n",
        "plt.ylabel('Training loss')\n",
        "plt.legend()\n",
        "\n",
        "plt.show()"
      ],
      "execution_count": null,
      "outputs": [
        {
          "output_type": "display_data",
          "data": {
            "image/png": "[encoded data removed]",
            "text/plain": [
              "<Figure size 432x288 with 1 Axes>"
            ]
          },
          "metadata": {
            "tags": []
          }
        }
      ]
    },
    {
      "cell_type": "markdown",
      "metadata": {
        "id": "TAujcVODz46t"
      },
      "source": [
        "## 가중치 규제 추가"
      ]
    },
    {
      "cell_type": "code",
      "metadata": {
        "colab": {
          "background_save": true
        },
        "id": "gwk3JvhPz46u"
      },
      "source": [
        "from keras import regularizers\n",
        "\n",
        "l2_model = models.Sequential()\n",
        "l2_model.add(layers.Dense(16, kernel_regularizer=regularizers.l2(0.001),\n",
        "                          activation='relu', input_shape=(10000,)))\n",
        "l2_model.add(layers.Dense(16, kernel_regularizer=regularizers.l2(0.001),\n",
        "                          activation='relu'))\n",
        "l2_model.add(layers.Dense(1, activation='sigmoid'))"
      ],
      "execution_count": null,
      "outputs": []
    },
    {
      "cell_type": "code",
      "metadata": {
        "colab": {
          "background_save": true
        },
        "id": "LorHX3sRz46w"
      },
      "source": [
        "l2_model.compile(optimizer='rmsprop',\n",
        "                 loss='binary_crossentropy',\n",
        "                 metrics=['acc'])"
      ],
      "execution_count": null,
      "outputs": []
    },
    {
      "cell_type": "markdown",
      "metadata": {
        "id": "nD4ECDloz46x"
      },
      "source": [
        "\n",
        "L2 규제 페널티의 효과"
      ]
    },
    {
      "cell_type": "code",
      "metadata": {
        "colab": {
          "background_save": true,
          "base_uri": "https://localhost:8080/"
        },
        "id": "BeX0JmKjz46y",
        "outputId": "a30dc8c3-07a4-47b7-91ca-bf067acf47f4"
      },
      "source": [
        "l2_model_hist = l2_model.fit(x_train, y_train,\n",
        "                             epochs=20,\n",
        "                             batch_size=512,\n",
        "                             validation_data=(x_test, y_test))"
      ],
      "execution_count": null,
      "outputs": [
        {
          "output_type": "stream",
          "text": [
            "Epoch 1/20\n",
            "49/49 [==============================] - 3s 41ms/step - loss: 0.5816 - acc: 0.7384 - val_loss: 0.3746 - val_acc: 0.8828\n",
            "Epoch 2/20\n",
            "49/49 [==============================] - 2s 32ms/step - loss: 0.3202 - acc: 0.9064 - val_loss: 0.3566 - val_acc: 0.8752\n",
            "Epoch 3/20\n",
            "49/49 [==============================] - 2s 33ms/step - loss: 0.2621 - acc: 0.9256 - val_loss: 0.3421 - val_acc: 0.8823\n",
            "Epoch 4/20\n",
            "49/49 [==============================] - 2s 33ms/step - loss: 0.2450 - acc: 0.9315 - val_loss: 0.3345 - val_acc: 0.8870\n",
            "Epoch 5/20\n",
            "49/49 [==============================] - 2s 32ms/step - loss: 0.2250 - acc: 0.9429 - val_loss: 0.3478 - val_acc: 0.8820\n",
            "Epoch 6/20\n",
            "49/49 [==============================] - 2s 32ms/step - loss: 0.2184 - acc: 0.9419 - val_loss: 0.3526 - val_acc: 0.8810\n",
            "Epoch 7/20\n",
            "49/49 [==============================] - 2s 33ms/step - loss: 0.2181 - acc: 0.9434 - val_loss: 0.3585 - val_acc: 0.8796\n",
            "Epoch 8/20\n",
            "49/49 [==============================] - 2s 33ms/step - loss: 0.2076 - acc: 0.9456 - val_loss: 0.3689 - val_acc: 0.8760\n",
            "Epoch 9/20\n",
            "49/49 [==============================] - 2s 33ms/step - loss: 0.2055 - acc: 0.9486 - val_loss: 0.3766 - val_acc: 0.8750\n",
            "Epoch 10/20\n",
            "49/49 [==============================] - 2s 33ms/step - loss: 0.2006 - acc: 0.9499 - val_loss: 0.4709 - val_acc: 0.8442\n",
            "Epoch 11/20\n",
            "49/49 [==============================] - 2s 33ms/step - loss: 0.1965 - acc: 0.9492 - val_loss: 0.3902 - val_acc: 0.8714\n",
            "Epoch 12/20\n",
            "49/49 [==============================] - 2s 33ms/step - loss: 0.1929 - acc: 0.9530 - val_loss: 0.3918 - val_acc: 0.8708\n",
            "Epoch 13/20\n",
            "49/49 [==============================] - 2s 32ms/step - loss: 0.1878 - acc: 0.9546 - val_loss: 0.3910 - val_acc: 0.8736\n",
            "Epoch 14/20\n",
            "49/49 [==============================] - 2s 33ms/step - loss: 0.1908 - acc: 0.9521 - val_loss: 0.4197 - val_acc: 0.8642\n",
            "Epoch 15/20\n",
            "49/49 [==============================] - 2s 32ms/step - loss: 0.1890 - acc: 0.9526 - val_loss: 0.4037 - val_acc: 0.8705\n",
            "Epoch 16/20\n",
            "49/49 [==============================] - 2s 33ms/step - loss: 0.1875 - acc: 0.9543 - val_loss: 0.4044 - val_acc: 0.8721\n",
            "Epoch 17/20\n",
            "49/49 [==============================] - 2s 33ms/step - loss: 0.1778 - acc: 0.9570 - val_loss: 0.4366 - val_acc: 0.8614\n",
            "Epoch 18/20\n",
            "49/49 [==============================] - 2s 33ms/step - loss: 0.1761 - acc: 0.9608 - val_loss: 0.5068 - val_acc: 0.8468\n",
            "Epoch 19/20\n",
            "49/49 [==============================] - 2s 33ms/step - loss: 0.1787 - acc: 0.9586 - val_loss: 0.4133 - val_acc: 0.8697\n",
            "Epoch 20/20\n",
            "49/49 [==============================] - 2s 32ms/step - loss: 0.1677 - acc: 0.9627 - val_loss: 0.4152 - val_acc: 0.8705\n"
          ],
          "name": "stdout"
        }
      ]
    },
    {
      "cell_type": "code",
      "metadata": {
        "colab": {
          "background_save": true,
          "base_uri": "https://localhost:8080/",
          "height": 279
        },
        "id": "MjsikmvBz460",
        "outputId": "7a462810-e412-45b8-ca6e-ec99ae9ba1aa"
      },
      "source": [
        "l2_model_val_loss = l2_model_hist.history['val_loss']\n",
        "\n",
        "plt.plot(epochs, original_val_loss, label='Original model')\n",
        "plt.plot(epochs, l2_model_val_loss, label='L2-regularized model')\n",
        "plt.xlabel('Epochs')\n",
        "plt.ylabel('Validation loss')\n",
        "plt.legend()\n",
        "\n",
        "plt.show()"
      ],
      "execution_count": null,
      "outputs": [
        {
          "output_type": "display_data",
          "data": {
            "image/png": "[encoded data removed]",
            "text/plain": [
              "<Figure size 432x288 with 1 Axes>"
            ]
          },
          "metadata": {
            "tags": []
          }
        }
      ]
    },
    {
      "cell_type": "markdown",
      "metadata": {
        "id": "dZ7kY7G1z461"
      },
      "source": [
        "L2 규제를 사용한 모델 vs 기본 모델\n",
        "과대적합에 강건\n",
        "\n",
        "케라스에서 제공되는 가중치 규제: L1, L2"
      ]
    },
    {
      "cell_type": "markdown",
      "metadata": {
        "collapsed": true,
        "id": "VBf3jiiIz463"
      },
      "source": [
        "```python\n",
        "from keras import regularizers\n",
        "\n",
        "# L1 규제\n",
        "regularizers.l1(0.001)\n",
        "\n",
        "# L1과 L2 규제 병행\n",
        "regularizers.l1_l2(l1=0.001, l2=0.001)\n",
        "```"
      ]
    },
    {
      "cell_type": "markdown",
      "metadata": {
        "id": "fc4CsDe-z464"
      },
      "source": [
        "### l1(0.0001) 모델과 비교"
      ]
    },
    {
      "cell_type": "code",
      "metadata": {
        "colab": {
          "background_save": true
        },
        "id": "sH4ra03Lz465"
      },
      "source": [
        "l1_model = models.Sequential()\n",
        "l1_model.add(layers.Dense(16, kernel_regularizer=regularizers.l1(0.0001),\n",
        "                          activation='relu', input_shape=(10000,)))\n",
        "l1_model.add(layers.Dense(16, kernel_regularizer=regularizers.l1(0.0001),\n",
        "                          activation='relu'))\n",
        "l1_model.add(layers.Dense(1, activation='sigmoid'))"
      ],
      "execution_count": null,
      "outputs": []
    },
    {
      "cell_type": "code",
      "metadata": {
        "colab": {
          "background_save": true
        },
        "id": "1gJ-qW1vz468"
      },
      "source": [
        "l1_model.compile(optimizer='rmsprop',\n",
        "                 loss='binary_crossentropy',\n",
        "                 metrics=['acc'])"
      ],
      "execution_count": null,
      "outputs": []
    },
    {
      "cell_type": "code",
      "metadata": {
        "colab": {
          "background_save": true,
          "base_uri": "https://localhost:8080/"
        },
        "id": "3zWaqMcoz469",
        "outputId": "8e7e035a-1174-44b1-8712-cdbf59858376"
      },
      "source": [
        "l1_model_hist = l1_model.fit(x_train, y_train,\n",
        "                             epochs=20,\n",
        "                             batch_size=512,\n",
        "                             validation_data=(x_test, y_test))"
      ],
      "execution_count": null,
      "outputs": [
        {
          "output_type": "stream",
          "text": [
            "Epoch 1/20\n",
            "49/49 [==============================] - 3s 43ms/step - loss: 0.6787 - acc: 0.7407 - val_loss: 0.4830 - val_acc: 0.8441\n",
            "Epoch 2/20\n",
            "49/49 [==============================] - 2s 33ms/step - loss: 0.4022 - acc: 0.8887 - val_loss: 0.3815 - val_acc: 0.8856\n",
            "Epoch 3/20\n",
            "49/49 [==============================] - 2s 33ms/step - loss: 0.3407 - acc: 0.9066 - val_loss: 0.3722 - val_acc: 0.8835\n",
            "Epoch 4/20\n",
            "49/49 [==============================] - 2s 33ms/step - loss: 0.3231 - acc: 0.9094 - val_loss: 0.3624 - val_acc: 0.8877\n",
            "Epoch 5/20\n",
            "49/49 [==============================] - 2s 33ms/step - loss: 0.3040 - acc: 0.9155 - val_loss: 0.3633 - val_acc: 0.8850\n",
            "Epoch 6/20\n",
            "49/49 [==============================] - 2s 34ms/step - loss: 0.3071 - acc: 0.9118 - val_loss: 0.3665 - val_acc: 0.8853\n",
            "Epoch 7/20\n",
            "49/49 [==============================] - 2s 33ms/step - loss: 0.2881 - acc: 0.9229 - val_loss: 0.3679 - val_acc: 0.8853\n",
            "Epoch 8/20\n",
            "49/49 [==============================] - 2s 33ms/step - loss: 0.2909 - acc: 0.9218 - val_loss: 0.3986 - val_acc: 0.8737\n",
            "Epoch 9/20\n",
            "49/49 [==============================] - 2s 33ms/step - loss: 0.2823 - acc: 0.9232 - val_loss: 0.3855 - val_acc: 0.8769\n",
            "Epoch 10/20\n",
            "49/49 [==============================] - 2s 33ms/step - loss: 0.2809 - acc: 0.9271 - val_loss: 0.3856 - val_acc: 0.8776\n",
            "Epoch 11/20\n",
            "49/49 [==============================] - 2s 33ms/step - loss: 0.2681 - acc: 0.9335 - val_loss: 0.3837 - val_acc: 0.8795\n",
            "Epoch 12/20\n",
            "49/49 [==============================] - 2s 33ms/step - loss: 0.2687 - acc: 0.9317 - val_loss: 0.3986 - val_acc: 0.8733\n",
            "Epoch 13/20\n",
            "49/49 [==============================] - 2s 34ms/step - loss: 0.2662 - acc: 0.9338 - val_loss: 0.4305 - val_acc: 0.8664\n",
            "Epoch 14/20\n",
            "49/49 [==============================] - 2s 33ms/step - loss: 0.2598 - acc: 0.9350 - val_loss: 0.3918 - val_acc: 0.8778\n",
            "Epoch 15/20\n",
            "49/49 [==============================] - 2s 33ms/step - loss: 0.2550 - acc: 0.9348 - val_loss: 0.3989 - val_acc: 0.8765\n",
            "Epoch 16/20\n",
            "49/49 [==============================] - 2s 33ms/step - loss: 0.2420 - acc: 0.9422 - val_loss: 0.3919 - val_acc: 0.8788\n",
            "Epoch 17/20\n",
            "49/49 [==============================] - 2s 33ms/step - loss: 0.2452 - acc: 0.9398 - val_loss: 0.3963 - val_acc: 0.8766\n",
            "Epoch 18/20\n",
            "49/49 [==============================] - 2s 33ms/step - loss: 0.2364 - acc: 0.9454 - val_loss: 0.3963 - val_acc: 0.8763\n",
            "Epoch 19/20\n",
            "49/49 [==============================] - 2s 34ms/step - loss: 0.2414 - acc: 0.9432 - val_loss: 0.4011 - val_acc: 0.8762\n",
            "Epoch 20/20\n",
            "49/49 [==============================] - 2s 33ms/step - loss: 0.2248 - acc: 0.9503 - val_loss: 0.4133 - val_acc: 0.8706\n"
          ],
          "name": "stdout"
        }
      ]
    },
    {
      "cell_type": "code",
      "metadata": {
        "colab": {
          "background_save": true,
          "base_uri": "https://localhost:8080/",
          "height": 279
        },
        "id": "GpuOybqPz46_",
        "outputId": "140af7b2-2328-4cec-b766-e386661a2a59"
      },
      "source": [
        "l1_model_val_loss = l1_model_hist.history['val_loss']\n",
        "\n",
        "plt.plot(epochs, original_val_loss, label='Original model')\n",
        "plt.plot(epochs, l1_model_val_loss, label='L1-regularized model')\n",
        "plt.xlabel('Epochs')\n",
        "plt.ylabel('Validation loss')\n",
        "plt.legend()\n",
        "\n",
        "plt.show()"
      ],
      "execution_count": null,
      "outputs": [
        {
          "output_type": "display_data",
          "data": {
            "image/png": "[encoded data removed]",
            "text/plain": [
              "<Figure size 432x288 with 1 Axes>"
            ]
          },
          "metadata": {
            "tags": []
          }
        }
      ]
    },
    {
      "cell_type": "markdown",
      "metadata": {
        "id": "uuRMNeEEz47B"
      },
      "source": [
        "### l1_l2(l1=0.0001, l2=0.0001)모델과 비교"
      ]
    },
    {
      "cell_type": "code",
      "metadata": {
        "id": "OO8WM9Gxz47B"
      },
      "source": [
        "l1l2_model = models.Sequential()\n",
        "l1l2_model.add(layers.Dense(16, kernel_regularizer=regularizers.l1_l2(l1=0.0001, l2=0.0001),\n",
        "                            activation='relu', input_shape=(10000,)))\n",
        "l1l2_model.add(layers.Dense(16, kernel_regularizer=regularizers.l1_l2(l1=0.0001, l2=0.0001),\n",
        "                            activation='relu'))\n",
        "l1l2_model.add(layers.Dense(1, activation='sigmoid'))"
      ],
      "execution_count": null,
      "outputs": []
    },
    {
      "cell_type": "code",
      "metadata": {
        "id": "iRqSHshoz47D"
      },
      "source": [
        "l1l2_model.compile(optimizer='rmsprop',\n",
        "                   loss='binary_crossentropy',\n",
        "                   metrics=['acc'])"
      ],
      "execution_count": null,
      "outputs": []
    },
    {
      "cell_type": "code",
      "metadata": {
        "colab": {
          "base_uri": "https://localhost:8080/"
        },
        "id": "4apqHWbcz47E",
        "outputId": "2c5c2230-f0c8-4899-d05b-65bfde58f118"
      },
      "source": [
        "l1l2_model_hist = l1l2_model.fit(x_train, y_train,\n",
        "                                 epochs=20,\n",
        "                                 batch_size=512,\n",
        "                                 validation_data=(x_test, y_test))"
      ],
      "execution_count": null,
      "outputs": [
        {
          "output_type": "stream",
          "text": [
            "Epoch 1/20\n",
            "49/49 [==============================] - 3s 42ms/step - loss: 0.6705 - acc: 0.7568 - val_loss: 0.4436 - val_acc: 0.8645\n",
            "Epoch 2/20\n",
            "49/49 [==============================] - 1s 23ms/step - loss: 0.3874 - acc: 0.8946 - val_loss: 0.3752 - val_acc: 0.8872\n",
            "Epoch 3/20\n",
            "49/49 [==============================] - 1s 23ms/step - loss: 0.3382 - acc: 0.9060 - val_loss: 0.3635 - val_acc: 0.8874\n",
            "Epoch 4/20\n",
            "49/49 [==============================] - 1s 23ms/step - loss: 0.3150 - acc: 0.9140 - val_loss: 0.3667 - val_acc: 0.8862\n",
            "Epoch 5/20\n",
            "49/49 [==============================] - 1s 22ms/step - loss: 0.3010 - acc: 0.9185 - val_loss: 0.3966 - val_acc: 0.8730\n",
            "Epoch 6/20\n",
            "49/49 [==============================] - 1s 22ms/step - loss: 0.2972 - acc: 0.9226 - val_loss: 0.3731 - val_acc: 0.8831\n",
            "Epoch 7/20\n",
            "49/49 [==============================] - 1s 22ms/step - loss: 0.2906 - acc: 0.9244 - val_loss: 0.3749 - val_acc: 0.8827\n",
            "Epoch 8/20\n",
            "49/49 [==============================] - 1s 23ms/step - loss: 0.2817 - acc: 0.9285 - val_loss: 0.3777 - val_acc: 0.8811\n",
            "Epoch 9/20\n",
            "49/49 [==============================] - 1s 23ms/step - loss: 0.2733 - acc: 0.9319 - val_loss: 0.3755 - val_acc: 0.8833\n",
            "Epoch 10/20\n",
            "49/49 [==============================] - 1s 23ms/step - loss: 0.2748 - acc: 0.9316 - val_loss: 0.3833 - val_acc: 0.8783\n",
            "Epoch 11/20\n",
            "49/49 [==============================] - 1s 22ms/step - loss: 0.2726 - acc: 0.9300 - val_loss: 0.3839 - val_acc: 0.8811\n",
            "Epoch 12/20\n",
            "49/49 [==============================] - 1s 22ms/step - loss: 0.2631 - acc: 0.9355 - val_loss: 0.3961 - val_acc: 0.8738\n",
            "Epoch 13/20\n",
            "49/49 [==============================] - 1s 23ms/step - loss: 0.2589 - acc: 0.9361 - val_loss: 0.3822 - val_acc: 0.8805\n",
            "Epoch 14/20\n",
            "49/49 [==============================] - 1s 23ms/step - loss: 0.2540 - acc: 0.9398 - val_loss: 0.4039 - val_acc: 0.8708\n",
            "Epoch 15/20\n",
            "49/49 [==============================] - 1s 24ms/step - loss: 0.2522 - acc: 0.9360 - val_loss: 0.4307 - val_acc: 0.8666\n",
            "Epoch 16/20\n",
            "49/49 [==============================] - 1s 23ms/step - loss: 0.2501 - acc: 0.9386 - val_loss: 0.4584 - val_acc: 0.8580\n",
            "Epoch 17/20\n",
            "49/49 [==============================] - 1s 22ms/step - loss: 0.2504 - acc: 0.9394 - val_loss: 0.4002 - val_acc: 0.8762\n",
            "Epoch 18/20\n",
            "49/49 [==============================] - 1s 23ms/step - loss: 0.2375 - acc: 0.9460 - val_loss: 0.4019 - val_acc: 0.8752\n",
            "Epoch 19/20\n",
            "49/49 [==============================] - 1s 23ms/step - loss: 0.2399 - acc: 0.9454 - val_loss: 0.4133 - val_acc: 0.8724\n",
            "Epoch 20/20\n",
            "49/49 [==============================] - 1s 23ms/step - loss: 0.2310 - acc: 0.9470 - val_loss: 0.4044 - val_acc: 0.8756\n"
          ],
          "name": "stdout"
        }
      ]
    },
    {
      "cell_type": "code",
      "metadata": {
        "colab": {
          "base_uri": "https://localhost:8080/",
          "height": 279
        },
        "id": "aZeoLDsVz47G",
        "outputId": "6d1cca5b-0854-4c12-f66f-5e2acec374fa"
      },
      "source": [
        "l1l2_model_val_loss = l1l2_model_hist.history['val_loss']\n",
        "\n",
        "plt.plot(epochs, original_val_loss, label='Original model')\n",
        "plt.plot(epochs, l1l2_model_val_loss, label='L1,L2-regularized model')\n",
        "plt.xlabel('Epochs')\n",
        "plt.ylabel('Validation loss')\n",
        "plt.legend()\n",
        "\n",
        "plt.show()"
      ],
      "execution_count": null,
      "outputs": [
        {
          "output_type": "display_data",
          "data": {
            "image/png": "[encoded data removed]",
            "text/plain": [
              "<Figure size 432x288 with 1 Axes>"
            ]
          },
          "metadata": {
            "tags": []
          }
        }
      ]
    },
    {
      "cell_type": "markdown",
      "metadata": {
        "id": "5uaOL_Xsz47H"
      },
      "source": [
        "## 드롭아웃 추가"
      ]
    },
    {
      "cell_type": "markdown",
      "metadata": {
        "collapsed": true,
        "id": "BuaDCG7nz47I"
      },
      "source": [
        "```python\n",
        "model.add(layers.Dropout(0.5))\n",
        "```"
      ]
    },
    {
      "cell_type": "markdown",
      "metadata": {
        "id": "1FLLUFetz47J"
      },
      "source": [
        "IMDB 네트워크에 두 개의 `Dropout` 층을 추가하고 과대적합을 얼마나 줄여주는지 확인"
      ]
    },
    {
      "cell_type": "code",
      "metadata": {
        "id": "-9yeHkQGz47J"
      },
      "source": [
        "dpt_model = models.Sequential()\n",
        "dpt_model.add(layers.Dense(16, activation='relu', input_shape=(10000,)))\n",
        "dpt_model.add(layers.Dropout(0.5))\n",
        "dpt_model.add(layers.Dense(16, activation='relu'))\n",
        "dpt_model.add(layers.Dropout(0.5))\n",
        "dpt_model.add(layers.Dense(1, activation='sigmoid'))\n",
        "\n",
        "dpt_model.compile(optimizer='rmsprop',\n",
        "                  loss='binary_crossentropy',\n",
        "                  metrics=['acc'])"
      ],
      "execution_count": null,
      "outputs": []
    },
    {
      "cell_type": "code",
      "metadata": {
        "colab": {
          "base_uri": "https://localhost:8080/"
        },
        "id": "meYswtuVz47L",
        "outputId": "fc51fecd-232b-4ee3-d323-27cf3df4b92a"
      },
      "source": [
        "dpt_model_hist = dpt_model.fit(x_train, y_train,\n",
        "                               epochs=20,\n",
        "                               batch_size=512,\n",
        "                               validation_data=(x_test, y_test))"
      ],
      "execution_count": null,
      "outputs": [
        {
          "output_type": "stream",
          "text": [
            "Epoch 1/20\n",
            "49/49 [==============================] - 4s 75ms/step - loss: 0.6386 - acc: 0.6136 - val_loss: 0.4502 - val_acc: 0.8608\n",
            "Epoch 2/20\n",
            "49/49 [==============================] - 1s 23ms/step - loss: 0.4605 - acc: 0.7956 - val_loss: 0.3431 - val_acc: 0.8796\n",
            "Epoch 3/20\n",
            "49/49 [==============================] - 1s 23ms/step - loss: 0.3661 - acc: 0.8583 - val_loss: 0.2882 - val_acc: 0.8888\n",
            "Epoch 4/20\n",
            "49/49 [==============================] - 1s 23ms/step - loss: 0.2981 - acc: 0.8895 - val_loss: 0.2836 - val_acc: 0.8876\n",
            "Epoch 5/20\n",
            "49/49 [==============================] - 1s 23ms/step - loss: 0.2540 - acc: 0.9103 - val_loss: 0.2833 - val_acc: 0.8868\n",
            "Epoch 6/20\n",
            "49/49 [==============================] - 1s 23ms/step - loss: 0.2316 - acc: 0.9197 - val_loss: 0.2934 - val_acc: 0.8863\n",
            "Epoch 7/20\n",
            "49/49 [==============================] - 1s 22ms/step - loss: 0.2027 - acc: 0.9301 - val_loss: 0.3055 - val_acc: 0.8880\n",
            "Epoch 8/20\n",
            "49/49 [==============================] - 1s 24ms/step - loss: 0.1860 - acc: 0.9366 - val_loss: 0.3286 - val_acc: 0.8863\n",
            "Epoch 9/20\n",
            "49/49 [==============================] - 1s 23ms/step - loss: 0.1674 - acc: 0.9446 - val_loss: 0.3449 - val_acc: 0.8840\n",
            "Epoch 10/20\n",
            "49/49 [==============================] - 1s 23ms/step - loss: 0.1527 - acc: 0.9477 - val_loss: 0.3667 - val_acc: 0.8808\n",
            "Epoch 11/20\n",
            "49/49 [==============================] - 1s 23ms/step - loss: 0.1524 - acc: 0.9502 - val_loss: 0.4193 - val_acc: 0.8751\n",
            "Epoch 12/20\n",
            "49/49 [==============================] - 1s 23ms/step - loss: 0.1390 - acc: 0.9534 - val_loss: 0.4113 - val_acc: 0.8802\n",
            "Epoch 13/20\n",
            "49/49 [==============================] - 1s 23ms/step - loss: 0.1291 - acc: 0.9542 - val_loss: 0.4614 - val_acc: 0.8717\n",
            "Epoch 14/20\n",
            "49/49 [==============================] - 1s 22ms/step - loss: 0.1184 - acc: 0.9592 - val_loss: 0.4608 - val_acc: 0.8756\n",
            "Epoch 15/20\n",
            "49/49 [==============================] - 1s 23ms/step - loss: 0.1141 - acc: 0.9603 - val_loss: 0.4816 - val_acc: 0.8769\n",
            "Epoch 16/20\n",
            "49/49 [==============================] - 1s 23ms/step - loss: 0.1215 - acc: 0.9586 - val_loss: 0.5127 - val_acc: 0.8736\n",
            "Epoch 17/20\n",
            "49/49 [==============================] - 1s 22ms/step - loss: 0.1128 - acc: 0.9613 - val_loss: 0.5426 - val_acc: 0.8756\n",
            "Epoch 18/20\n",
            "49/49 [==============================] - 1s 22ms/step - loss: 0.1025 - acc: 0.9656 - val_loss: 0.5472 - val_acc: 0.8744\n",
            "Epoch 19/20\n",
            "49/49 [==============================] - 1s 23ms/step - loss: 0.1090 - acc: 0.9636 - val_loss: 0.5635 - val_acc: 0.8725\n",
            "Epoch 20/20\n",
            "49/49 [==============================] - 1s 22ms/step - loss: 0.1018 - acc: 0.9646 - val_loss: 0.6050 - val_acc: 0.8699\n"
          ],
          "name": "stdout"
        }
      ]
    },
    {
      "cell_type": "markdown",
      "metadata": {
        "id": "FRZP3rF_z47O"
      },
      "source": [
        "결과 그래프"
      ]
    },
    {
      "cell_type": "code",
      "metadata": {
        "colab": {
          "base_uri": "https://localhost:8080/",
          "height": 279
        },
        "id": "0Ug88gEuz47O",
        "outputId": "b114afa0-3445-41a8-87ab-8ac77141b69e"
      },
      "source": [
        "dpt_model_val_loss = dpt_model_hist.history['val_loss']\n",
        "\n",
        "plt.plot(epochs, original_val_loss, label='Original model')\n",
        "plt.plot(epochs, dpt_model_val_loss, label='Dropout-regularized model')\n",
        "plt.xlabel('Epochs')\n",
        "plt.ylabel('Validation loss')\n",
        "plt.legend()\n",
        "\n",
        "plt.show()"
      ],
      "execution_count": null,
      "outputs": [
        {
          "output_type": "display_data",
          "data": {
            "image/png": "[encoded data removed]",
            "text/plain": [
              "<Figure size 432x288 with 1 Axes>"
            ]
          },
          "metadata": {
            "tags": []
          }
        }
      ]
    }
  ]
}