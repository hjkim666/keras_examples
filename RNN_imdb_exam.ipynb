{
  "nbformat": 4,
  "nbformat_minor": 0,
  "metadata": {
    "colab": {
      "name": "RNN_imdb_exam.ipynb",
      "provenance": [],
      "collapsed_sections": []
    },
    "kernelspec": {
      "name": "python3",
      "display_name": "Python 3"
    },
    "language_info": {
      "name": "python"
    },
    "accelerator": "GPU"
  },
  "cells": [
    {
      "cell_type": "code",
      "metadata": {
        "id": "qXJoepRPojvU"
      },
      "source": [
        "from keras.datasets import imdb \n",
        "from keras.preprocessing import sequence"
      ],
      "execution_count": 2,
      "outputs": []
    },
    {
      "cell_type": "code",
      "metadata": {
        "colab": {
          "base_uri": "https://localhost:8080/"
        },
        "id": "tU67x8bOsaHy",
        "outputId": "4a8d686e-ca5d-46cb-d94c-fe04177625da"
      },
      "source": [
        "max_features = 10000 \n",
        "maxlen = 500 \n",
        "batch_size = 32 \n",
        "\n",
        "(input_train, y_train), (input_test, y_test) = imdb.load_data(num_words = 10000)"
      ],
      "execution_count": 3,
      "outputs": [
        {
          "output_type": "stream",
          "text": [
            "Downloading data from https://storage.googleapis.com/tensorflow/tf-keras-datasets/imdb.npz\n",
            "17465344/17464789 [==============================] - 0s 0us/step\n",
            "17473536/17464789 [==============================] - 0s 0us/step\n"
          ],
          "name": "stdout"
        },
        {
          "output_type": "stream",
          "text": [
            "<string>:6: VisibleDeprecationWarning: Creating an ndarray from ragged nested sequences (which is a list-or-tuple of lists-or-tuples-or ndarrays with different lengths or shapes) is deprecated. If you meant to do this, you must specify 'dtype=object' when creating the ndarray\n",
            "/usr/local/lib/python3.7/dist-packages/keras/datasets/imdb.py:155: VisibleDeprecationWarning: Creating an ndarray from ragged nested sequences (which is a list-or-tuple of lists-or-tuples-or ndarrays with different lengths or shapes) is deprecated. If you meant to do this, you must specify 'dtype=object' when creating the ndarray\n",
            "  x_train, y_train = np.array(xs[:idx]), np.array(labels[:idx])\n",
            "/usr/local/lib/python3.7/dist-packages/keras/datasets/imdb.py:156: VisibleDeprecationWarning: Creating an ndarray from ragged nested sequences (which is a list-or-tuple of lists-or-tuples-or ndarrays with different lengths or shapes) is deprecated. If you meant to do this, you must specify 'dtype=object' when creating the ndarray\n",
            "  x_test, y_test = np.array(xs[idx:]), np.array(labels[idx:])\n"
          ],
          "name": "stderr"
        }
      ]
    },
    {
      "cell_type": "code",
      "metadata": {
        "colab": {
          "base_uri": "https://localhost:8080/"
        },
        "id": "yGjxqrjts-wT",
        "outputId": "014044fd-59d8-4ad3-9a20-b9950026858b"
      },
      "source": [
        "len(input_train[0])"
      ],
      "execution_count": 4,
      "outputs": [
        {
          "output_type": "execute_result",
          "data": {
            "text/plain": [
              "218"
            ]
          },
          "metadata": {
            "tags": []
          },
          "execution_count": 4
        }
      ]
    },
    {
      "cell_type": "code",
      "metadata": {
        "colab": {
          "base_uri": "https://localhost:8080/"
        },
        "id": "xlJBsn79tDek",
        "outputId": "ae8f4e2f-000c-47e4-f004-dd3814802a09"
      },
      "source": [
        "len(input_train[1])"
      ],
      "execution_count": 5,
      "outputs": [
        {
          "output_type": "execute_result",
          "data": {
            "text/plain": [
              "189"
            ]
          },
          "metadata": {
            "tags": []
          },
          "execution_count": 5
        }
      ]
    },
    {
      "cell_type": "code",
      "metadata": {
        "id": "u_6Tj21ptRws"
      },
      "source": [
        "input_train = sequence.pad_sequences(input_train, maxlen=500)\n",
        "input_test = sequence.pad_sequences(input_test, maxlen=500)"
      ],
      "execution_count": 6,
      "outputs": []
    },
    {
      "cell_type": "code",
      "metadata": {
        "id": "1SR3MPtwuJz0"
      },
      "source": [
        "from keras.layers import Dense, Embedding, SimpleRNN, LSTM\n",
        "from keras.models import Sequential\n",
        "\n",
        "model = Sequential() \n",
        "model.add(Embedding(10000, 32))\n",
        "model.add(SimpleRNN(32))\n",
        "model.add(Dense(1, activation='sigmoid'))\n"
      ],
      "execution_count": 7,
      "outputs": []
    },
    {
      "cell_type": "code",
      "metadata": {
        "colab": {
          "base_uri": "https://localhost:8080/"
        },
        "id": "pxzCF2Tzvdvk",
        "outputId": "719c0dc0-4ca9-4636-a8e3-fe6da06ef756"
      },
      "source": [
        "model.summary()"
      ],
      "execution_count": 8,
      "outputs": [
        {
          "output_type": "stream",
          "text": [
            "Model: \"sequential\"\n",
            "_________________________________________________________________\n",
            "Layer (type)                 Output Shape              Param #   \n",
            "=================================================================\n",
            "embedding (Embedding)        (None, None, 32)          320000    \n",
            "_________________________________________________________________\n",
            "simple_rnn (SimpleRNN)       (None, 32)                2080      \n",
            "_________________________________________________________________\n",
            "dense (Dense)                (None, 1)                 33        \n",
            "=================================================================\n",
            "Total params: 322,113\n",
            "Trainable params: 322,113\n",
            "Non-trainable params: 0\n",
            "_________________________________________________________________\n"
          ],
          "name": "stdout"
        }
      ]
    },
    {
      "cell_type": "code",
      "metadata": {
        "colab": {
          "base_uri": "https://localhost:8080/"
        },
        "id": "2gvqle5tvfSK",
        "outputId": "d4210020-f8bc-4122-bcab-7884757623d9"
      },
      "source": [
        "model.compile(optimizer='rmsprop', loss='binary_crossentropy', \n",
        "              metrics=['acc'])\n",
        "history = model.fit(input_train, y_train, \n",
        "                    epochs=10, batch_size=128, validation_split=0.2)"
      ],
      "execution_count": 8,
      "outputs": [
        {
          "output_type": "stream",
          "text": [
            "Epoch 1/10\n",
            "157/157 [==============================] - 83s 403ms/step - loss: 0.6841 - acc: 0.5385 - val_loss: 0.4889 - val_acc: 0.7818\n",
            "Epoch 2/10\n",
            "157/157 [==============================] - 64s 405ms/step - loss: 0.4585 - acc: 0.7957 - val_loss: 0.4910 - val_acc: 0.7666\n",
            "Epoch 3/10\n",
            "157/157 [==============================] - 64s 405ms/step - loss: 0.3163 - acc: 0.8767 - val_loss: 0.3750 - val_acc: 0.8422\n",
            "Epoch 4/10\n",
            "157/157 [==============================] - 62s 394ms/step - loss: 0.2161 - acc: 0.9180 - val_loss: 0.4654 - val_acc: 0.7964\n",
            "Epoch 5/10\n",
            "157/157 [==============================] - 61s 391ms/step - loss: 0.1496 - acc: 0.9501 - val_loss: 0.4383 - val_acc: 0.8258\n",
            "Epoch 6/10\n",
            "157/157 [==============================] - 61s 391ms/step - loss: 0.0842 - acc: 0.9732 - val_loss: 0.4976 - val_acc: 0.8136\n",
            "Epoch 7/10\n",
            "157/157 [==============================] - 62s 392ms/step - loss: 0.0509 - acc: 0.9849 - val_loss: 0.5500 - val_acc: 0.8250\n",
            "Epoch 8/10\n",
            "157/157 [==============================] - 62s 394ms/step - loss: 0.0276 - acc: 0.9930 - val_loss: 0.6055 - val_acc: 0.8254\n",
            "Epoch 9/10\n",
            "157/157 [==============================] - 62s 398ms/step - loss: 0.0214 - acc: 0.9943 - val_loss: 0.6328 - val_acc: 0.8250\n",
            "Epoch 10/10\n",
            "157/157 [==============================] - 63s 403ms/step - loss: 0.0185 - acc: 0.9940 - val_loss: 0.7613 - val_acc: 0.7858\n"
          ],
          "name": "stdout"
        }
      ]
    },
    {
      "cell_type": "code",
      "metadata": {
        "colab": {
          "base_uri": "https://localhost:8080/",
          "height": 389
        },
        "id": "j5MFVrBuwmJC",
        "outputId": "a8ca4ce1-8297-40e5-ccfa-65bba72f00a3"
      },
      "source": [
        "model = Sequential() \n",
        "model.add(Embedding(10000, 32))\n",
        "model.add(LSTM(32))\n",
        "model.add(Dense(1, activation='sigmoid'))\n",
        "\n",
        "model.compile(optimizer='rmsprop', loss='binary_crossentropy', \n",
        "              metrics=['acc'])\n",
        "history = model.fit(input_train, y_train, \n",
        "                    epochs=10, batch_size=128, validation_split=0.2)"
      ],
      "execution_count": 9,
      "outputs": [
        {
          "output_type": "stream",
          "text": [
            "Epoch 1/10\n"
          ],
          "name": "stdout"
        },
        {
          "output_type": "error",
          "ename": "KeyboardInterrupt",
          "evalue": "ignored",
          "traceback": [
            "\u001b[0;31m---------------------------------------------------------------------------\u001b[0m",
            "\u001b[0;31mKeyboardInterrupt\u001b[0m                         Traceback (most recent call last)",
            "\u001b[0;32m<ipython-input-9-318d3c6b57ec>\u001b[0m in \u001b[0;36m<module>\u001b[0;34m()\u001b[0m\n\u001b[1;32m      7\u001b[0m               metrics=['acc'])\n\u001b[1;32m      8\u001b[0m history = model.fit(input_train, y_train, \n\u001b[0;32m----> 9\u001b[0;31m                     epochs=10, batch_size=128, validation_split=0.2)\n\u001b[0m",
            "\u001b[0;32m/usr/local/lib/python3.7/dist-packages/keras/engine/training.py\u001b[0m in \u001b[0;36mfit\u001b[0;34m(self, x, y, batch_size, epochs, verbose, callbacks, validation_split, validation_data, shuffle, class_weight, sample_weight, initial_epoch, steps_per_epoch, validation_steps, validation_batch_size, validation_freq, max_queue_size, workers, use_multiprocessing)\u001b[0m\n\u001b[1;32m   1156\u001b[0m                 _r=1):\n\u001b[1;32m   1157\u001b[0m               \u001b[0mcallbacks\u001b[0m\u001b[0;34m.\u001b[0m\u001b[0mon_train_batch_begin\u001b[0m\u001b[0;34m(\u001b[0m\u001b[0mstep\u001b[0m\u001b[0;34m)\u001b[0m\u001b[0;34m\u001b[0m\u001b[0;34m\u001b[0m\u001b[0m\n\u001b[0;32m-> 1158\u001b[0;31m               \u001b[0mtmp_logs\u001b[0m \u001b[0;34m=\u001b[0m \u001b[0mself\u001b[0m\u001b[0;34m.\u001b[0m\u001b[0mtrain_function\u001b[0m\u001b[0;34m(\u001b[0m\u001b[0miterator\u001b[0m\u001b[0;34m)\u001b[0m\u001b[0;34m\u001b[0m\u001b[0;34m\u001b[0m\u001b[0m\n\u001b[0m\u001b[1;32m   1159\u001b[0m               \u001b[0;32mif\u001b[0m \u001b[0mdata_handler\u001b[0m\u001b[0;34m.\u001b[0m\u001b[0mshould_sync\u001b[0m\u001b[0;34m:\u001b[0m\u001b[0;34m\u001b[0m\u001b[0;34m\u001b[0m\u001b[0m\n\u001b[1;32m   1160\u001b[0m                 \u001b[0mcontext\u001b[0m\u001b[0;34m.\u001b[0m\u001b[0masync_wait\u001b[0m\u001b[0;34m(\u001b[0m\u001b[0;34m)\u001b[0m\u001b[0;34m\u001b[0m\u001b[0;34m\u001b[0m\u001b[0m\n",
            "\u001b[0;32m/usr/local/lib/python3.7/dist-packages/tensorflow/python/eager/def_function.py\u001b[0m in \u001b[0;36m__call__\u001b[0;34m(self, *args, **kwds)\u001b[0m\n\u001b[1;32m    887\u001b[0m \u001b[0;34m\u001b[0m\u001b[0m\n\u001b[1;32m    888\u001b[0m       \u001b[0;32mwith\u001b[0m \u001b[0mOptionalXlaContext\u001b[0m\u001b[0;34m(\u001b[0m\u001b[0mself\u001b[0m\u001b[0;34m.\u001b[0m\u001b[0m_jit_compile\u001b[0m\u001b[0;34m)\u001b[0m\u001b[0;34m:\u001b[0m\u001b[0;34m\u001b[0m\u001b[0;34m\u001b[0m\u001b[0m\n\u001b[0;32m--> 889\u001b[0;31m         \u001b[0mresult\u001b[0m \u001b[0;34m=\u001b[0m \u001b[0mself\u001b[0m\u001b[0;34m.\u001b[0m\u001b[0m_call\u001b[0m\u001b[0;34m(\u001b[0m\u001b[0;34m*\u001b[0m\u001b[0margs\u001b[0m\u001b[0;34m,\u001b[0m \u001b[0;34m**\u001b[0m\u001b[0mkwds\u001b[0m\u001b[0;34m)\u001b[0m\u001b[0;34m\u001b[0m\u001b[0;34m\u001b[0m\u001b[0m\n\u001b[0m\u001b[1;32m    890\u001b[0m \u001b[0;34m\u001b[0m\u001b[0m\n\u001b[1;32m    891\u001b[0m       \u001b[0mnew_tracing_count\u001b[0m \u001b[0;34m=\u001b[0m \u001b[0mself\u001b[0m\u001b[0;34m.\u001b[0m\u001b[0mexperimental_get_tracing_count\u001b[0m\u001b[0;34m(\u001b[0m\u001b[0;34m)\u001b[0m\u001b[0;34m\u001b[0m\u001b[0;34m\u001b[0m\u001b[0m\n",
            "\u001b[0;32m/usr/local/lib/python3.7/dist-packages/tensorflow/python/eager/def_function.py\u001b[0m in \u001b[0;36m_call\u001b[0;34m(self, *args, **kwds)\u001b[0m\n\u001b[1;32m    948\u001b[0m         \u001b[0;31m# Lifting succeeded, so variables are initialized and we can run the\u001b[0m\u001b[0;34m\u001b[0m\u001b[0;34m\u001b[0m\u001b[0;34m\u001b[0m\u001b[0m\n\u001b[1;32m    949\u001b[0m         \u001b[0;31m# stateless function.\u001b[0m\u001b[0;34m\u001b[0m\u001b[0;34m\u001b[0m\u001b[0;34m\u001b[0m\u001b[0m\n\u001b[0;32m--> 950\u001b[0;31m         \u001b[0;32mreturn\u001b[0m \u001b[0mself\u001b[0m\u001b[0;34m.\u001b[0m\u001b[0m_stateless_fn\u001b[0m\u001b[0;34m(\u001b[0m\u001b[0;34m*\u001b[0m\u001b[0margs\u001b[0m\u001b[0;34m,\u001b[0m \u001b[0;34m**\u001b[0m\u001b[0mkwds\u001b[0m\u001b[0;34m)\u001b[0m\u001b[0;34m\u001b[0m\u001b[0;34m\u001b[0m\u001b[0m\n\u001b[0m\u001b[1;32m    951\u001b[0m     \u001b[0;32melse\u001b[0m\u001b[0;34m:\u001b[0m\u001b[0;34m\u001b[0m\u001b[0;34m\u001b[0m\u001b[0m\n\u001b[1;32m    952\u001b[0m       \u001b[0m_\u001b[0m\u001b[0;34m,\u001b[0m \u001b[0m_\u001b[0m\u001b[0;34m,\u001b[0m \u001b[0m_\u001b[0m\u001b[0;34m,\u001b[0m \u001b[0mfiltered_flat_args\u001b[0m \u001b[0;34m=\u001b[0m\u001b[0;31m \u001b[0m\u001b[0;31m\\\u001b[0m\u001b[0;34m\u001b[0m\u001b[0;34m\u001b[0m\u001b[0m\n",
            "\u001b[0;32m/usr/local/lib/python3.7/dist-packages/tensorflow/python/eager/function.py\u001b[0m in \u001b[0;36m__call__\u001b[0;34m(self, *args, **kwargs)\u001b[0m\n\u001b[1;32m   3022\u001b[0m        filtered_flat_args) = self._maybe_define_function(args, kwargs)\n\u001b[1;32m   3023\u001b[0m     return graph_function._call_flat(\n\u001b[0;32m-> 3024\u001b[0;31m         filtered_flat_args, captured_inputs=graph_function.captured_inputs)  # pylint: disable=protected-access\n\u001b[0m\u001b[1;32m   3025\u001b[0m \u001b[0;34m\u001b[0m\u001b[0m\n\u001b[1;32m   3026\u001b[0m   \u001b[0;34m@\u001b[0m\u001b[0mproperty\u001b[0m\u001b[0;34m\u001b[0m\u001b[0;34m\u001b[0m\u001b[0m\n",
            "\u001b[0;32m/usr/local/lib/python3.7/dist-packages/tensorflow/python/eager/function.py\u001b[0m in \u001b[0;36m_call_flat\u001b[0;34m(self, args, captured_inputs, cancellation_manager)\u001b[0m\n\u001b[1;32m   1959\u001b[0m       \u001b[0;31m# No tape is watching; skip to running the function.\u001b[0m\u001b[0;34m\u001b[0m\u001b[0;34m\u001b[0m\u001b[0;34m\u001b[0m\u001b[0m\n\u001b[1;32m   1960\u001b[0m       return self._build_call_outputs(self._inference_function.call(\n\u001b[0;32m-> 1961\u001b[0;31m           ctx, args, cancellation_manager=cancellation_manager))\n\u001b[0m\u001b[1;32m   1962\u001b[0m     forward_backward = self._select_forward_and_backward_functions(\n\u001b[1;32m   1963\u001b[0m         \u001b[0margs\u001b[0m\u001b[0;34m,\u001b[0m\u001b[0;34m\u001b[0m\u001b[0;34m\u001b[0m\u001b[0m\n",
            "\u001b[0;32m/usr/local/lib/python3.7/dist-packages/tensorflow/python/eager/function.py\u001b[0m in \u001b[0;36mcall\u001b[0;34m(self, ctx, args, cancellation_manager)\u001b[0m\n\u001b[1;32m    594\u001b[0m               \u001b[0minputs\u001b[0m\u001b[0;34m=\u001b[0m\u001b[0margs\u001b[0m\u001b[0;34m,\u001b[0m\u001b[0;34m\u001b[0m\u001b[0;34m\u001b[0m\u001b[0m\n\u001b[1;32m    595\u001b[0m               \u001b[0mattrs\u001b[0m\u001b[0;34m=\u001b[0m\u001b[0mattrs\u001b[0m\u001b[0;34m,\u001b[0m\u001b[0;34m\u001b[0m\u001b[0;34m\u001b[0m\u001b[0m\n\u001b[0;32m--> 596\u001b[0;31m               ctx=ctx)\n\u001b[0m\u001b[1;32m    597\u001b[0m         \u001b[0;32melse\u001b[0m\u001b[0;34m:\u001b[0m\u001b[0;34m\u001b[0m\u001b[0;34m\u001b[0m\u001b[0m\n\u001b[1;32m    598\u001b[0m           outputs = execute.execute_with_cancellation(\n",
            "\u001b[0;32m/usr/local/lib/python3.7/dist-packages/tensorflow/python/eager/execute.py\u001b[0m in \u001b[0;36mquick_execute\u001b[0;34m(op_name, num_outputs, inputs, attrs, ctx, name)\u001b[0m\n\u001b[1;32m     58\u001b[0m     \u001b[0mctx\u001b[0m\u001b[0;34m.\u001b[0m\u001b[0mensure_initialized\u001b[0m\u001b[0;34m(\u001b[0m\u001b[0;34m)\u001b[0m\u001b[0;34m\u001b[0m\u001b[0;34m\u001b[0m\u001b[0m\n\u001b[1;32m     59\u001b[0m     tensors = pywrap_tfe.TFE_Py_Execute(ctx._handle, device_name, op_name,\n\u001b[0;32m---> 60\u001b[0;31m                                         inputs, attrs, num_outputs)\n\u001b[0m\u001b[1;32m     61\u001b[0m   \u001b[0;32mexcept\u001b[0m \u001b[0mcore\u001b[0m\u001b[0;34m.\u001b[0m\u001b[0m_NotOkStatusException\u001b[0m \u001b[0;32mas\u001b[0m \u001b[0me\u001b[0m\u001b[0;34m:\u001b[0m\u001b[0;34m\u001b[0m\u001b[0;34m\u001b[0m\u001b[0m\n\u001b[1;32m     62\u001b[0m     \u001b[0;32mif\u001b[0m \u001b[0mname\u001b[0m \u001b[0;32mis\u001b[0m \u001b[0;32mnot\u001b[0m \u001b[0;32mNone\u001b[0m\u001b[0;34m:\u001b[0m\u001b[0;34m\u001b[0m\u001b[0;34m\u001b[0m\u001b[0m\n",
            "\u001b[0;31mKeyboardInterrupt\u001b[0m: "
          ]
        }
      ]
    },
    {
      "cell_type": "code",
      "metadata": {
        "id": "yDsRmRx7yJuV"
      },
      "source": [
        "acc = history.history['acc']\n",
        "val_acc = history.history['val_acc']\n",
        "loss = history.history['loss']\n",
        "val_loss = history.history['val_loss']"
      ],
      "execution_count": 9,
      "outputs": []
    },
    {
      "cell_type": "code",
      "metadata": {
        "colab": {
          "base_uri": "https://localhost:8080/",
          "height": 281
        },
        "id": "UTebpeyi234n",
        "outputId": "1e024257-c26d-43c7-90df-c91b4eee438e"
      },
      "source": [
        "import matplotlib.pyplot as plt\n",
        "\n",
        "epochs = range(1, len(acc) + 1)\n",
        "\n",
        "plt.plot(epochs, acc, label='train acc')\n",
        "plt.plot(epochs, val_acc, label='validation acc')\n",
        "plt.title('train & validation accuracy')\n",
        "plt.legend() \n",
        "plt.show()"
      ],
      "execution_count": 10,
      "outputs": [
        {
          "output_type": "display_data",
          "data": {
            "image/png": "[encoded data removed]",
            "text/plain": [
              "<Figure size 432x288 with 1 Axes>"
            ]
          },
          "metadata": {
            "tags": [],
            "needs_background": "light"
          }
        }
      ]
    },
    {
      "cell_type": "code",
      "metadata": {
        "colab": {
          "base_uri": "https://localhost:8080/"
        },
        "id": "CqI3jj993RYt",
        "outputId": "d2a67519-b820-4cd2-a497-841298d9f613"
      },
      "source": [
        "model = Sequential() \n",
        "model.add(Embedding(10000, 32))\n",
        "model.add(LSTM(32))\n",
        "model.add(Dense(1, activation='sigmoid'))\n",
        "\n",
        "model.compile(optimizer='rmsprop', loss='binary_crossentropy', \n",
        "              metrics=['acc'])\n",
        "history = model.fit(input_train, y_train, \n",
        "                    epochs=3, batch_size=128, validation_split=0.2)"
      ],
      "execution_count": 11,
      "outputs": [
        {
          "output_type": "stream",
          "text": [
            "Epoch 1/3\n",
            "157/157 [==============================] - 6s 28ms/step - loss: 0.5972 - acc: 0.6752 - val_loss: 0.3377 - val_acc: 0.8680\n",
            "Epoch 2/3\n",
            "157/157 [==============================] - 4s 24ms/step - loss: 0.3135 - acc: 0.8775 - val_loss: 0.3154 - val_acc: 0.8764\n",
            "Epoch 3/3\n",
            "157/157 [==============================] - 4s 24ms/step - loss: 0.2337 - acc: 0.9138 - val_loss: 0.2963 - val_acc: 0.8902\n"
          ],
          "name": "stdout"
        }
      ]
    },
    {
      "cell_type": "code",
      "metadata": {
        "id": "d3UVErLcarJM"
      },
      "source": [
        ""
      ],
      "execution_count": null,
      "outputs": []
    },
    {
      "cell_type": "code",
      "metadata": {
        "id": "6KlAAvte3kXs"
      },
      "source": [
        ""
      ],
      "execution_count": null,
      "outputs": []
    },
    {
      "cell_type": "markdown",
      "metadata": {
        "id": "GRRMB7RU7rYv"
      },
      "source": [
        "### RNN 성능개선 "
      ]
    },
    {
      "cell_type": "code",
      "metadata": {
        "colab": {
          "base_uri": "https://localhost:8080/"
        },
        "id": "WUUtQX957txQ",
        "outputId": "541a1c7f-395e-4312-fd73-7e908261677d"
      },
      "source": [
        "model = Sequential() \n",
        "model.add(Embedding(10000, 32))\n",
        "model.add(LSTM(32, dropout=0.1, recurrent_dropout=0.5))\n",
        "model.add(Dense(1, activation='sigmoid'))\n",
        "\n",
        "model.compile(optimizer='rmsprop', loss='binary_crossentropy', \n",
        "              metrics=['acc'])\n",
        "history = model.fit(input_train, y_train, \n",
        "                    epochs=3, batch_size=128, validation_split=0.2)"
      ],
      "execution_count": 10,
      "outputs": [
        {
          "output_type": "stream",
          "text": [
            "WARNING:tensorflow:Layer lstm_1 will not use cuDNN kernels since it doesn't meet the criteria. It will use a generic GPU kernel as fallback when running on GPU.\n",
            "Epoch 1/3\n",
            "157/157 [==============================] - 431s 3s/step - loss: 0.6186 - acc: 0.6698 - val_loss: 0.4268 - val_acc: 0.8058\n",
            "Epoch 2/3\n",
            "157/157 [==============================] - 411s 3s/step - loss: 0.3462 - acc: 0.8660 - val_loss: 0.3514 - val_acc: 0.8530\n",
            "Epoch 3/3\n",
            "157/157 [==============================] - 408s 3s/step - loss: 0.2685 - acc: 0.8976 - val_loss: 0.3722 - val_acc: 0.8704\n"
          ],
          "name": "stdout"
        }
      ]
    },
    {
      "cell_type": "code",
      "metadata": {
        "id": "qs60QPm2a_Uv"
      },
      "source": [
        ""
      ],
      "execution_count": null,
      "outputs": []
    },
    {
      "cell_type": "markdown",
      "metadata": {
        "id": "1Up-runKldI1"
      },
      "source": [
        "### Stacked RNN"
      ]
    },
    {
      "cell_type": "code",
      "metadata": {
        "colab": {
          "base_uri": "https://localhost:8080/"
        },
        "id": "aEL8aaVTlf3z",
        "outputId": "21921160-24ae-4dc8-cb95-caa9612dca73"
      },
      "source": [
        "model = Sequential() \n",
        "model.add(Embedding(10000, 32))\n",
        "model.add(LSTM(32, return_sequences=True))\n",
        "model.add(LSTM(32, return_sequences=True))\n",
        "model.add(LSTM(32, return_sequences=True))\n",
        "model.add(LSTM(32))\n",
        "model.add(Dense(1, activation='sigmoid'))\n",
        "\n",
        "model.compile(optimizer='rmsprop', loss='binary_crossentropy', \n",
        "              metrics=['acc'])\n",
        "history = model.fit(input_train, y_train, \n",
        "                    epochs=10, batch_size=128, validation_split=0.2)"
      ],
      "execution_count": 12,
      "outputs": [
        {
          "output_type": "stream",
          "text": [
            "Epoch 1/10\n",
            "157/157 [==============================] - 79s 459ms/step - loss: 0.5652 - acc: 0.6925 - val_loss: 0.3823 - val_acc: 0.8442\n",
            "Epoch 2/10\n",
            "157/157 [==============================] - 70s 449ms/step - loss: 0.2926 - acc: 0.8884 - val_loss: 0.6062 - val_acc: 0.7478\n",
            "Epoch 3/10\n",
            "157/157 [==============================] - 70s 449ms/step - loss: 0.2441 - acc: 0.9107 - val_loss: 0.3016 - val_acc: 0.8764\n",
            "Epoch 4/10\n",
            "157/157 [==============================] - 70s 448ms/step - loss: 0.2043 - acc: 0.9262 - val_loss: 0.3496 - val_acc: 0.8836\n",
            "Epoch 5/10\n",
            "157/157 [==============================] - 70s 446ms/step - loss: 0.1711 - acc: 0.9375 - val_loss: 0.4934 - val_acc: 0.8206\n",
            "Epoch 6/10\n",
            "157/157 [==============================] - 70s 446ms/step - loss: 0.1654 - acc: 0.9402 - val_loss: 0.5693 - val_acc: 0.8350\n",
            "Epoch 7/10\n",
            "157/157 [==============================] - 70s 446ms/step - loss: 0.1429 - acc: 0.9513 - val_loss: 0.3475 - val_acc: 0.8632\n",
            "Epoch 8/10\n",
            "157/157 [==============================] - 70s 447ms/step - loss: 0.1179 - acc: 0.9601 - val_loss: 0.3452 - val_acc: 0.8696\n",
            "Epoch 9/10\n",
            "157/157 [==============================] - 70s 446ms/step - loss: 0.1080 - acc: 0.9637 - val_loss: 0.3509 - val_acc: 0.8702\n",
            "Epoch 10/10\n",
            "157/157 [==============================] - 70s 446ms/step - loss: 0.0923 - acc: 0.9705 - val_loss: 0.3564 - val_acc: 0.8744\n"
          ],
          "name": "stdout"
        }
      ]
    },
    {
      "cell_type": "code",
      "metadata": {
        "colab": {
          "base_uri": "https://localhost:8080/"
        },
        "id": "rXlhls_nqKfU",
        "outputId": "699cb226-4b0a-4af9-bbda-edde0bdf9fbb"
      },
      "source": [
        "from keras.layers import GRU \n",
        "\n",
        "model = Sequential() \n",
        "model.add(Embedding(10000, 32))\n",
        "model.add(GRU(32, return_sequences=True))\n",
        "model.add(GRU(32, return_sequences=True))\n",
        "model.add(GRU(32, return_sequences=True))\n",
        "model.add(GRU(32))\n",
        "model.add(Dense(1, activation='sigmoid'))\n",
        "\n",
        "model.compile(optimizer='rmsprop', loss='binary_crossentropy', \n",
        "              metrics=['acc'])\n",
        "history = model.fit(input_train, y_train, \n",
        "                    epochs=10, batch_size=128, validation_split=0.2)"
      ],
      "execution_count": 13,
      "outputs": [
        {
          "output_type": "stream",
          "text": [
            "Epoch 1/10\n",
            "157/157 [==============================] - 77s 439ms/step - loss: 0.6128 - acc: 0.6389 - val_loss: 0.4031 - val_acc: 0.8222\n",
            "Epoch 2/10\n",
            "157/157 [==============================] - 67s 430ms/step - loss: 0.3416 - acc: 0.8574 - val_loss: 0.3569 - val_acc: 0.8486\n",
            "Epoch 3/10\n",
            "157/157 [==============================] - 67s 430ms/step - loss: 0.2717 - acc: 0.8958 - val_loss: 0.4278 - val_acc: 0.8366\n",
            "Epoch 4/10\n",
            "157/157 [==============================] - 67s 429ms/step - loss: 0.2310 - acc: 0.9120 - val_loss: 0.3203 - val_acc: 0.8700\n",
            "Epoch 5/10\n",
            "157/157 [==============================] - 67s 428ms/step - loss: 0.2053 - acc: 0.9268 - val_loss: 0.4497 - val_acc: 0.8162\n",
            "Epoch 6/10\n",
            "157/157 [==============================] - 71s 451ms/step - loss: 0.1699 - acc: 0.9406 - val_loss: 0.3346 - val_acc: 0.8672\n",
            "Epoch 7/10\n",
            "157/157 [==============================] - 67s 429ms/step - loss: 0.1567 - acc: 0.9455 - val_loss: 0.3847 - val_acc: 0.8534\n",
            "Epoch 8/10\n",
            "157/157 [==============================] - 67s 428ms/step - loss: 0.1438 - acc: 0.9492 - val_loss: 0.3166 - val_acc: 0.8798\n",
            "Epoch 9/10\n",
            "157/157 [==============================] - 67s 429ms/step - loss: 0.1301 - acc: 0.9563 - val_loss: 0.4272 - val_acc: 0.8538\n",
            "Epoch 10/10\n",
            "157/157 [==============================] - 68s 430ms/step - loss: 0.1207 - acc: 0.9603 - val_loss: 0.4220 - val_acc: 0.8674\n"
          ],
          "name": "stdout"
        }
      ]
    },
    {
      "cell_type": "markdown",
      "metadata": {
        "id": "f_6D7diVtztn"
      },
      "source": [
        "### StackedRNN + dropout"
      ]
    },
    {
      "cell_type": "code",
      "metadata": {
        "id": "1pf5luWdtybP"
      },
      "source": [
        "from keras.layers import GRU \n",
        "\n",
        "model = Sequential() \n",
        "model.add(Embedding(10000, 32))\n",
        "model.add(GRU(32, return_sequences=True, dropout=0.1, recurrent_dropout=0.2))\n",
        "model.add(GRU(32, return_sequences=True, dropout=0.1, recurrent_dropout=0.2))\n",
        "model.add(GRU(32, return_sequences=True, dropout=0.1, recurrent_dropout=0.2))\n",
        "model.add(GRU(32))\n",
        "model.add(Dense(1, activation='sigmoid'))\n",
        "\n",
        "model.compile(optimizer='rmsprop', loss='binary_crossentropy', \n",
        "              metrics=['acc'])\n",
        "history = model.fit(input_train, y_train, \n",
        "                    epochs=10, batch_size=128, validation_split=0.2)"
      ],
      "execution_count": null,
      "outputs": []
    },
    {
      "cell_type": "code",
      "metadata": {
        "id": "tdR78UxKxxRa"
      },
      "source": [
        ""
      ],
      "execution_count": null,
      "outputs": []
    },
    {
      "cell_type": "markdown",
      "metadata": {
        "id": "3OuIZsSDxx1t"
      },
      "source": [
        "### 양방향 RNN"
      ]
    },
    {
      "cell_type": "code",
      "metadata": {
        "colab": {
          "base_uri": "https://localhost:8080/"
        },
        "id": "IHmaXQQHxymy",
        "outputId": "4f72f8c1-853e-4120-b45b-a70e29becb58"
      },
      "source": [
        "from keras.layers import Bidirectional\n",
        "\n",
        "model = Sequential() \n",
        "model.add(Embedding(10000, 32))\n",
        "model.add(Bidirectional(LSTM(32)))\n",
        "model.add(Dense(1, activation='sigmoid'))\n",
        "\n",
        "model.compile(optimizer='rmsprop', loss='binary_crossentropy', \n",
        "              metrics=['acc'])\n",
        "history = model.fit(input_train, y_train, \n",
        "                    epochs=10, batch_size=128, validation_split=0.2)"
      ],
      "execution_count": 16,
      "outputs": [
        {
          "output_type": "stream",
          "text": [
            "Epoch 1/10\n",
            "157/157 [==============================] - 37s 198ms/step - loss: 0.6506 - acc: 0.6322 - val_loss: 0.4317 - val_acc: 0.8410\n",
            "Epoch 2/10\n",
            "157/157 [==============================] - 30s 192ms/step - loss: 0.3768 - acc: 0.8585 - val_loss: 0.3078 - val_acc: 0.8778\n",
            "Epoch 3/10\n",
            "157/157 [==============================] - 30s 192ms/step - loss: 0.2558 - acc: 0.9033 - val_loss: 0.2893 - val_acc: 0.8868\n",
            "Epoch 4/10\n",
            "157/157 [==============================] - 30s 192ms/step - loss: 0.2112 - acc: 0.9218 - val_loss: 0.2787 - val_acc: 0.8860\n",
            "Epoch 5/10\n",
            "157/157 [==============================] - 30s 192ms/step - loss: 0.1837 - acc: 0.9337 - val_loss: 0.3009 - val_acc: 0.8802\n",
            "Epoch 6/10\n",
            "157/157 [==============================] - 30s 191ms/step - loss: 0.1544 - acc: 0.9490 - val_loss: 0.2900 - val_acc: 0.8902\n",
            "Epoch 7/10\n",
            "157/157 [==============================] - 30s 192ms/step - loss: 0.1374 - acc: 0.9529 - val_loss: 0.3073 - val_acc: 0.8686\n",
            "Epoch 8/10\n",
            "157/157 [==============================] - 30s 192ms/step - loss: 0.1271 - acc: 0.9565 - val_loss: 0.3352 - val_acc: 0.8564\n",
            "Epoch 9/10\n",
            "157/157 [==============================] - 30s 192ms/step - loss: 0.1105 - acc: 0.9648 - val_loss: 0.4489 - val_acc: 0.8646\n",
            "Epoch 10/10\n",
            "157/157 [==============================] - 30s 192ms/step - loss: 0.1133 - acc: 0.9592 - val_loss: 0.5493 - val_acc: 0.8588\n"
          ],
          "name": "stdout"
        }
      ]
    },
    {
      "cell_type": "code",
      "metadata": {
        "id": "ETekXGhgxyqy"
      },
      "source": [
        ""
      ],
      "execution_count": null,
      "outputs": []
    },
    {
      "cell_type": "code",
      "metadata": {
        "id": "JTfkbWCaxy4Y"
      },
      "source": [
        ""
      ],
      "execution_count": null,
      "outputs": []
    }
  ]
}