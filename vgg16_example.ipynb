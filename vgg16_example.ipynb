{
  "nbformat": 4,
  "nbformat_minor": 0,
  "metadata": {
    "colab": {
      "name": "vgg16_example.ipynb",
      "provenance": []
    },
    "kernelspec": {
      "name": "python3",
      "display_name": "Python 3"
    },
    "language_info": {
      "name": "python"
    },
    "accelerator": "GPU"
  },
  "cells": [
    {
      "cell_type": "code",
      "metadata": {
        "id": "dhStpZhrHt7f"
      },
      "source": [
        "from tensorflow import keras \n",
        "from keras.applications import VGG16"
      ],
      "execution_count": 1,
      "outputs": []
    },
    {
      "cell_type": "code",
      "metadata": {
        "colab": {
          "base_uri": "https://localhost:8080/"
        },
        "id": "hn3uVLPhIM0S",
        "outputId": "3c629287-853c-4401-9a54-862789a4530c"
      },
      "source": [
        "conv_base = VGG16(weights='imagenet', \n",
        "                  include_top=False,\n",
        "                  input_shape=(150,150,3))"
      ],
      "execution_count": 2,
      "outputs": [
        {
          "output_type": "stream",
          "text": [
            "Downloading data from https://storage.googleapis.com/tensorflow/keras-applications/vgg16/vgg16_weights_tf_dim_ordering_tf_kernels_notop.h5\n",
            "58892288/58889256 [==============================] - 2s 0us/step\n"
          ],
          "name": "stdout"
        }
      ]
    },
    {
      "cell_type": "code",
      "metadata": {
        "colab": {
          "base_uri": "https://localhost:8080/"
        },
        "id": "uS3ChdquIdvP",
        "outputId": "b1b6c937-ebc3-426d-fbb8-411de69d044f"
      },
      "source": [
        "conv_base.summary()"
      ],
      "execution_count": 3,
      "outputs": [
        {
          "output_type": "stream",
          "text": [
            "Model: \"vgg16\"\n",
            "_________________________________________________________________\n",
            "Layer (type)                 Output Shape              Param #   \n",
            "=================================================================\n",
            "input_1 (InputLayer)         [(None, 150, 150, 3)]     0         \n",
            "_________________________________________________________________\n",
            "block1_conv1 (Conv2D)        (None, 150, 150, 64)      1792      \n",
            "_________________________________________________________________\n",
            "block1_conv2 (Conv2D)        (None, 150, 150, 64)      36928     \n",
            "_________________________________________________________________\n",
            "block1_pool (MaxPooling2D)   (None, 75, 75, 64)        0         \n",
            "_________________________________________________________________\n",
            "block2_conv1 (Conv2D)        (None, 75, 75, 128)       73856     \n",
            "_________________________________________________________________\n",
            "block2_conv2 (Conv2D)        (None, 75, 75, 128)       147584    \n",
            "_________________________________________________________________\n",
            "block2_pool (MaxPooling2D)   (None, 37, 37, 128)       0         \n",
            "_________________________________________________________________\n",
            "block3_conv1 (Conv2D)        (None, 37, 37, 256)       295168    \n",
            "_________________________________________________________________\n",
            "block3_conv2 (Conv2D)        (None, 37, 37, 256)       590080    \n",
            "_________________________________________________________________\n",
            "block3_conv3 (Conv2D)        (None, 37, 37, 256)       590080    \n",
            "_________________________________________________________________\n",
            "block3_pool (MaxPooling2D)   (None, 18, 18, 256)       0         \n",
            "_________________________________________________________________\n",
            "block4_conv1 (Conv2D)        (None, 18, 18, 512)       1180160   \n",
            "_________________________________________________________________\n",
            "block4_conv2 (Conv2D)        (None, 18, 18, 512)       2359808   \n",
            "_________________________________________________________________\n",
            "block4_conv3 (Conv2D)        (None, 18, 18, 512)       2359808   \n",
            "_________________________________________________________________\n",
            "block4_pool (MaxPooling2D)   (None, 9, 9, 512)         0         \n",
            "_________________________________________________________________\n",
            "block5_conv1 (Conv2D)        (None, 9, 9, 512)         2359808   \n",
            "_________________________________________________________________\n",
            "block5_conv2 (Conv2D)        (None, 9, 9, 512)         2359808   \n",
            "_________________________________________________________________\n",
            "block5_conv3 (Conv2D)        (None, 9, 9, 512)         2359808   \n",
            "_________________________________________________________________\n",
            "block5_pool (MaxPooling2D)   (None, 4, 4, 512)         0         \n",
            "=================================================================\n",
            "Total params: 14,714,688\n",
            "Trainable params: 14,714,688\n",
            "Non-trainable params: 0\n",
            "_________________________________________________________________\n"
          ],
          "name": "stdout"
        }
      ]
    },
    {
      "cell_type": "code",
      "metadata": {
        "colab": {
          "base_uri": "https://localhost:8080/"
        },
        "id": "FibAEvxlIhzp",
        "outputId": "572f0c06-bb32-422c-ff22-9647b58700d9"
      },
      "source": [
        "from keras import models \n",
        "from keras import layers \n",
        "\n",
        "model = models.Sequential() \n",
        "model.add(conv_base)\n",
        "model.add(layers.Flatten())\n",
        "model.add(layers.Dense(256, activation='relu'))\n",
        "model.add(layers.Dense(1, activation='sigmoid'))\n",
        "model.summary()\n"
      ],
      "execution_count": 4,
      "outputs": [
        {
          "output_type": "stream",
          "text": [
            "Model: \"sequential\"\n",
            "_________________________________________________________________\n",
            "Layer (type)                 Output Shape              Param #   \n",
            "=================================================================\n",
            "vgg16 (Functional)           (None, 4, 4, 512)         14714688  \n",
            "_________________________________________________________________\n",
            "flatten (Flatten)            (None, 8192)              0         \n",
            "_________________________________________________________________\n",
            "dense (Dense)                (None, 256)               2097408   \n",
            "_________________________________________________________________\n",
            "dense_1 (Dense)              (None, 1)                 257       \n",
            "=================================================================\n",
            "Total params: 16,812,353\n",
            "Trainable params: 16,812,353\n",
            "Non-trainable params: 0\n",
            "_________________________________________________________________\n"
          ],
          "name": "stdout"
        }
      ]
    },
    {
      "cell_type": "code",
      "metadata": {
        "colab": {
          "base_uri": "https://localhost:8080/"
        },
        "id": "LWanTcUpJpJC",
        "outputId": "248b3126-a4b4-47d3-848d-b065b413b9e3"
      },
      "source": [
        "len(model.trainable_weights)   #26 + 4"
      ],
      "execution_count": 5,
      "outputs": [
        {
          "output_type": "execute_result",
          "data": {
            "text/plain": [
              "30"
            ]
          },
          "metadata": {
            "tags": []
          },
          "execution_count": 5
        }
      ]
    },
    {
      "cell_type": "code",
      "metadata": {
        "id": "4iEZZQYjLGK2"
      },
      "source": [
        "conv_base.trainable = False"
      ],
      "execution_count": 6,
      "outputs": []
    },
    {
      "cell_type": "code",
      "metadata": {
        "colab": {
          "base_uri": "https://localhost:8080/"
        },
        "id": "9hoH6uVlLgNv",
        "outputId": "5dff26eb-4283-4362-b40f-11bc9636fb16"
      },
      "source": [
        "len(model.trainable_weights) "
      ],
      "execution_count": 7,
      "outputs": [
        {
          "output_type": "execute_result",
          "data": {
            "text/plain": [
              "4"
            ]
          },
          "metadata": {
            "tags": []
          },
          "execution_count": 7
        }
      ]
    },
    {
      "cell_type": "markdown",
      "metadata": {
        "id": "EQ7MKEXGMFkU"
      },
      "source": [
        "#### cats and dogs "
      ]
    },
    {
      "cell_type": "code",
      "metadata": {
        "colab": {
          "base_uri": "https://localhost:8080/"
        },
        "id": "h0Lj8pmrLh_n",
        "outputId": "f1c233fe-f1ca-413a-d149-b471b3047b36"
      },
      "source": [
        "from google.colab import drive\n",
        "drive.mount('/gdrive')"
      ],
      "execution_count": 8,
      "outputs": [
        {
          "output_type": "stream",
          "text": [
            "Mounted at /gdrive\n"
          ],
          "name": "stdout"
        }
      ]
    },
    {
      "cell_type": "code",
      "metadata": {
        "id": "Dg-h0h3iMM5L"
      },
      "source": [
        "import os \n",
        "\n",
        "base_dir = '/gdrive/My Drive/datasets/cats_and_dogs_small/'\n",
        "train_dir = os.path.join(base_dir, 'train') \n",
        "validation_dir = os.path.join(base_dir, 'validation')\n",
        "test_dir = os.path.join(base_dir,'test') "
      ],
      "execution_count": 9,
      "outputs": []
    },
    {
      "cell_type": "code",
      "metadata": {
        "colab": {
          "base_uri": "https://localhost:8080/"
        },
        "id": "lCUp6JftMeKB",
        "outputId": "4a751dba-e793-4bb0-95e5-2192f5e58207"
      },
      "source": [
        "#이미지데이터 제너레이터 \n",
        "from tensorflow import keras  \n",
        "from keras.preprocessing.image import ImageDataGenerator\n",
        "import matplotlib.pyplot as plt\n",
        "\n",
        "train_datagen = ImageDataGenerator(rescale=1./255.)\n",
        "train_generator = train_datagen.flow_from_directory(train_dir, \n",
        "                                                    batch_size=20, \n",
        "                                                    target_size=(150,150), \n",
        "                                                    class_mode='binary')\n",
        "test_gen = ImageDataGenerator(rescale=1./255.)\n",
        "test_generator = test_gen.flow_from_directory(test_dir, \n",
        "                                              batch_size=20, \n",
        "                                              target_size=(150,150), \n",
        "                                              class_mode='binary')\n",
        "validation_generator = test_gen.flow_from_directory(validation_dir, \n",
        "                                                    batch_size=20, \n",
        "                                                    target_size=(150,150), \n",
        "                                                    class_mode='binary')"
      ],
      "execution_count": 10,
      "outputs": [
        {
          "output_type": "stream",
          "text": [
            "Found 2000 images belonging to 2 classes.\n",
            "Found 1000 images belonging to 2 classes.\n",
            "Found 1000 images belonging to 2 classes.\n"
          ],
          "name": "stdout"
        }
      ]
    },
    {
      "cell_type": "code",
      "metadata": {
        "colab": {
          "base_uri": "https://localhost:8080/"
        },
        "id": "AdfWHngNM3AH",
        "outputId": "34f674ff-321b-4a76-a630-e32c41591112"
      },
      "source": [
        "from keras import optimizers\n",
        "\n",
        "model.compile(loss='binary_crossentropy', \n",
        "              optimizer = optimizers.RMSprop(lr=1e-4),\n",
        "              metrics=['accuracy'])\n",
        "\n",
        "history  = model.fit(train_generator, steps_per_epoch=100, epochs=30, \n",
        "                     validation_data=validation_generator, \n",
        "                     validation_steps=50)"
      ],
      "execution_count": 11,
      "outputs": [
        {
          "output_type": "stream",
          "text": [
            "Epoch 1/30\n",
            "100/100 [==============================] - 854s 8s/step - loss: 0.5141 - accuracy: 0.7359 - val_loss: 0.3297 - val_accuracy: 0.8460\n",
            "Epoch 2/30\n",
            "100/100 [==============================] - 15s 145ms/step - loss: 0.2337 - accuracy: 0.9075 - val_loss: 0.2967 - val_accuracy: 0.8730\n",
            "Epoch 3/30\n",
            "100/100 [==============================] - 15s 147ms/step - loss: 0.1843 - accuracy: 0.9283 - val_loss: 0.2598 - val_accuracy: 0.8910\n",
            "Epoch 4/30\n",
            "100/100 [==============================] - 15s 145ms/step - loss: 0.1417 - accuracy: 0.9484 - val_loss: 0.2356 - val_accuracy: 0.9000\n",
            "Epoch 5/30\n",
            "100/100 [==============================] - 15s 146ms/step - loss: 0.1076 - accuracy: 0.9676 - val_loss: 0.2926 - val_accuracy: 0.8810\n",
            "Epoch 6/30\n",
            "100/100 [==============================] - 15s 146ms/step - loss: 0.0884 - accuracy: 0.9667 - val_loss: 0.2488 - val_accuracy: 0.9040\n",
            "Epoch 7/30\n",
            "100/100 [==============================] - 14s 144ms/step - loss: 0.0726 - accuracy: 0.9781 - val_loss: 0.3061 - val_accuracy: 0.8830\n",
            "Epoch 8/30\n",
            "100/100 [==============================] - 15s 146ms/step - loss: 0.0600 - accuracy: 0.9845 - val_loss: 0.3573 - val_accuracy: 0.8710\n",
            "Epoch 9/30\n",
            "100/100 [==============================] - 14s 145ms/step - loss: 0.0418 - accuracy: 0.9923 - val_loss: 0.2608 - val_accuracy: 0.9040\n",
            "Epoch 10/30\n",
            "100/100 [==============================] - 15s 147ms/step - loss: 0.0284 - accuracy: 0.9976 - val_loss: 0.2684 - val_accuracy: 0.9070\n",
            "Epoch 11/30\n",
            "100/100 [==============================] - 15s 149ms/step - loss: 0.0242 - accuracy: 0.9943 - val_loss: 0.2997 - val_accuracy: 0.9030\n",
            "Epoch 12/30\n",
            "100/100 [==============================] - 15s 147ms/step - loss: 0.0161 - accuracy: 0.9992 - val_loss: 0.2968 - val_accuracy: 0.9040\n",
            "Epoch 13/30\n",
            "100/100 [==============================] - 15s 149ms/step - loss: 0.0176 - accuracy: 0.9970 - val_loss: 0.3642 - val_accuracy: 0.8850\n",
            "Epoch 14/30\n",
            "100/100 [==============================] - 15s 149ms/step - loss: 0.0107 - accuracy: 0.9999 - val_loss: 0.3399 - val_accuracy: 0.8970\n",
            "Epoch 15/30\n",
            "100/100 [==============================] - 15s 147ms/step - loss: 0.0098 - accuracy: 0.9993 - val_loss: 0.3353 - val_accuracy: 0.9000\n",
            "Epoch 16/30\n",
            "100/100 [==============================] - 15s 145ms/step - loss: 0.0071 - accuracy: 0.9992 - val_loss: 0.3344 - val_accuracy: 0.9020\n",
            "Epoch 17/30\n",
            "100/100 [==============================] - 15s 146ms/step - loss: 0.0052 - accuracy: 1.0000 - val_loss: 0.3779 - val_accuracy: 0.8970\n",
            "Epoch 18/30\n",
            "100/100 [==============================] - 15s 146ms/step - loss: 0.0037 - accuracy: 1.0000 - val_loss: 0.3686 - val_accuracy: 0.9060\n",
            "Epoch 19/30\n",
            "100/100 [==============================] - 15s 146ms/step - loss: 0.0042 - accuracy: 0.9990 - val_loss: 0.4325 - val_accuracy: 0.8880\n",
            "Epoch 20/30\n",
            "100/100 [==============================] - 15s 147ms/step - loss: 0.0022 - accuracy: 1.0000 - val_loss: 0.4351 - val_accuracy: 0.8950\n",
            "Epoch 21/30\n",
            "100/100 [==============================] - 15s 145ms/step - loss: 0.0015 - accuracy: 1.0000 - val_loss: 0.4229 - val_accuracy: 0.9040\n",
            "Epoch 22/30\n",
            "100/100 [==============================] - 14s 143ms/step - loss: 0.0011 - accuracy: 1.0000 - val_loss: 0.4157 - val_accuracy: 0.8990\n",
            "Epoch 23/30\n",
            "100/100 [==============================] - 14s 142ms/step - loss: 8.9671e-04 - accuracy: 1.0000 - val_loss: 0.4620 - val_accuracy: 0.9020\n",
            "Epoch 24/30\n",
            "100/100 [==============================] - 15s 145ms/step - loss: 7.1975e-04 - accuracy: 1.0000 - val_loss: 0.4488 - val_accuracy: 0.9080\n",
            "Epoch 25/30\n",
            "100/100 [==============================] - 15s 146ms/step - loss: 5.3434e-04 - accuracy: 1.0000 - val_loss: 0.4945 - val_accuracy: 0.9040\n",
            "Epoch 26/30\n",
            "100/100 [==============================] - 15s 146ms/step - loss: 3.6684e-04 - accuracy: 1.0000 - val_loss: 0.4761 - val_accuracy: 0.9080\n",
            "Epoch 27/30\n",
            "100/100 [==============================] - 15s 146ms/step - loss: 4.7668e-04 - accuracy: 1.0000 - val_loss: 0.5208 - val_accuracy: 0.9020\n",
            "Epoch 28/30\n",
            "100/100 [==============================] - 14s 143ms/step - loss: 2.0875e-04 - accuracy: 1.0000 - val_loss: 0.6729 - val_accuracy: 0.8810\n",
            "Epoch 29/30\n",
            "100/100 [==============================] - 14s 143ms/step - loss: 1.6676e-04 - accuracy: 1.0000 - val_loss: 0.5420 - val_accuracy: 0.9050\n",
            "Epoch 30/30\n",
            "100/100 [==============================] - 14s 144ms/step - loss: 2.2382e-04 - accuracy: 1.0000 - val_loss: 0.5471 - val_accuracy: 0.9090\n"
          ],
          "name": "stdout"
        }
      ]
    },
    {
      "cell_type": "code",
      "metadata": {
        "id": "jOrcXz0CNNO9"
      },
      "source": [
        ""
      ],
      "execution_count": 11,
      "outputs": []
    }
  ]
}