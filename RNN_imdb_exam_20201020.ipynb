{
  "nbformat": 4,
  "nbformat_minor": 0,
  "metadata": {
    "colab": {
      "name": "RNN_imdb_exam_20201020.ipynb",
      "provenance": [],
      "collapsed_sections": []
    },
    "kernelspec": {
      "name": "python3",
      "display_name": "Python 3"
    },
    "accelerator": "GPU"
  },
  "cells": [
    {
      "cell_type": "markdown",
      "metadata": {
        "id": "V4NKKrYslRGq"
      },
      "source": [
        "### IMDB example"
      ]
    },
    {
      "cell_type": "code",
      "metadata": {
        "id": "ZEcQRe-hkB2a"
      },
      "source": [
        "from keras.datasets import imdb\n",
        "from keras.preprocessing import sequence"
      ],
      "execution_count": null,
      "outputs": []
    },
    {
      "cell_type": "code",
      "metadata": {
        "id": "5rV8tlG8ljvZ"
      },
      "source": [
        "max_features = 10000 \n",
        "maxlen = 500\n",
        "batch_size = 32  \n",
        "\n",
        "(input_train, y_train), (input_test, y_test) = imdb.load_data(num_words=10000)"
      ],
      "execution_count": null,
      "outputs": []
    },
    {
      "cell_type": "code",
      "metadata": {
        "id": "m1UKxTMgmZAW",
        "colab": {
          "base_uri": "https://localhost:8080/",
          "height": 35
        },
        "outputId": "66123007-ecb1-4c5f-b16b-51720a9aa282"
      },
      "source": [
        "len(input_train[0])"
      ],
      "execution_count": null,
      "outputs": [
        {
          "output_type": "execute_result",
          "data": {
            "text/plain": [
              "218"
            ]
          },
          "metadata": {
            "tags": []
          },
          "execution_count": 12
        }
      ]
    },
    {
      "cell_type": "code",
      "metadata": {
        "id": "3Gca_YASmxfG",
        "colab": {
          "base_uri": "https://localhost:8080/",
          "height": 35
        },
        "outputId": "d8714437-674e-4a53-a0e9-76a39d17818d"
      },
      "source": [
        "len(input_train[1])"
      ],
      "execution_count": null,
      "outputs": [
        {
          "output_type": "execute_result",
          "data": {
            "text/plain": [
              "189"
            ]
          },
          "metadata": {
            "tags": []
          },
          "execution_count": 13
        }
      ]
    },
    {
      "cell_type": "code",
      "metadata": {
        "id": "OYZjvts9m7JZ"
      },
      "source": [
        "input_train = sequence.pad_sequences(input_train, maxlen=500)\n",
        "input_test = sequence.pad_sequences(input_test, maxlen=500)"
      ],
      "execution_count": null,
      "outputs": []
    },
    {
      "cell_type": "code",
      "metadata": {
        "id": "yG256I_Onf4Q",
        "colab": {
          "base_uri": "https://localhost:8080/",
          "height": 35
        },
        "outputId": "8821c889-9e5b-4075-9d96-eaf56faa1b15"
      },
      "source": [
        "input_train.shape"
      ],
      "execution_count": null,
      "outputs": [
        {
          "output_type": "execute_result",
          "data": {
            "text/plain": [
              "(25000, 500)"
            ]
          },
          "metadata": {
            "tags": []
          },
          "execution_count": 15
        }
      ]
    },
    {
      "cell_type": "code",
      "metadata": {
        "id": "CrSJUcnKnkGn",
        "colab": {
          "base_uri": "https://localhost:8080/",
          "height": 397
        },
        "outputId": "963aeac2-a57e-45b7-f6e0-a0235034679b"
      },
      "source": [
        "from keras.layers import Dense\n",
        "from keras.models import Sequential\n",
        "from keras.layers import Embedding, SimpleRNN, LSTM\n",
        "\n",
        "model = Sequential() \n",
        "model.add(Embedding(10000, 32))\n",
        "model.add(SimpleRNN(32))\n",
        "model.add(Dense(1, activation='sigmoid'))\n",
        "\n",
        "model.compile(optimizer='rmsprop', loss='binary_crossentropy',\n",
        "              metrics=['acc'])\n",
        "history = model.fit(input_train, y_train, \n",
        "                    epochs=10, \n",
        "                    batch_size=128, \n",
        "                    validation_split=0.2)"
      ],
      "execution_count": null,
      "outputs": [
        {
          "output_type": "stream",
          "text": [
            "Epoch 1/10\n",
            "157/157 [==============================] - 23s 146ms/step - loss: 0.6582 - acc: 0.5961 - val_loss: 0.5572 - val_acc: 0.7316\n",
            "Epoch 2/10\n",
            "157/157 [==============================] - 22s 139ms/step - loss: 0.4193 - acc: 0.8168 - val_loss: 0.4100 - val_acc: 0.8278\n",
            "Epoch 3/10\n",
            "157/157 [==============================] - 22s 139ms/step - loss: 0.3046 - acc: 0.8777 - val_loss: 0.4088 - val_acc: 0.8262\n",
            "Epoch 4/10\n",
            "157/157 [==============================] - 22s 141ms/step - loss: 0.2314 - acc: 0.9075 - val_loss: 0.4564 - val_acc: 0.7934\n",
            "Epoch 5/10\n",
            "157/157 [==============================] - 22s 139ms/step - loss: 0.1632 - acc: 0.9398 - val_loss: 0.5317 - val_acc: 0.7592\n",
            "Epoch 6/10\n",
            "157/157 [==============================] - 22s 140ms/step - loss: 0.1021 - acc: 0.9652 - val_loss: 0.4500 - val_acc: 0.8410\n",
            "Epoch 7/10\n",
            "157/157 [==============================] - 22s 141ms/step - loss: 0.0604 - acc: 0.9815 - val_loss: 0.5672 - val_acc: 0.7980\n",
            "Epoch 8/10\n",
            "157/157 [==============================] - 22s 142ms/step - loss: 0.0404 - acc: 0.9887 - val_loss: 0.6084 - val_acc: 0.8048\n",
            "Epoch 9/10\n",
            "157/157 [==============================] - 22s 140ms/step - loss: 0.0219 - acc: 0.9941 - val_loss: 0.7930 - val_acc: 0.7584\n",
            "Epoch 10/10\n",
            "157/157 [==============================] - 22s 140ms/step - loss: 0.0126 - acc: 0.9969 - val_loss: 0.7404 - val_acc: 0.8138\n"
          ],
          "name": "stdout"
        }
      ]
    },
    {
      "cell_type": "code",
      "metadata": {
        "id": "aK87tIGCn2hV"
      },
      "source": [
        ""
      ],
      "execution_count": null,
      "outputs": []
    },
    {
      "cell_type": "code",
      "metadata": {
        "id": "sjfO0fJNGK5D",
        "colab": {
          "base_uri": "https://localhost:8080/",
          "height": 391
        },
        "outputId": "7bc4093b-ee28-432f-9318-5b3829c512e3"
      },
      "source": [
        "from keras.models import Sequential\n",
        "from keras.layers import Embedding, SimpleRNN, LSTM\n",
        "from keras.layers import Dense\n",
        "\n",
        "model = Sequential()\n",
        "model.add(Embedding(max_features, 32))\n",
        "model.add(LSTM(32))\n",
        "model.add(Dense(1, activation='sigmoid'))\n",
        "\n",
        "model.compile(optimizer='rmsprop',\n",
        "              loss='binary_crossentropy',\n",
        "              metrics=['acc'])\n",
        "history = model.fit(input_train, y_train,\n",
        "                    epochs=10,\n",
        "                    batch_size=128,\n",
        "                    validation_split=0.2)"
      ],
      "execution_count": null,
      "outputs": [
        {
          "output_type": "stream",
          "text": [
            "Epoch 1/10\n",
            "157/157 [==============================] - 14s 90ms/step - loss: 0.5046 - acc: 0.7564 - val_loss: 0.4031 - val_acc: 0.8418\n",
            "Epoch 2/10\n",
            "157/157 [==============================] - 14s 87ms/step - loss: 0.2975 - acc: 0.8845 - val_loss: 0.3379 - val_acc: 0.8758\n",
            "Epoch 3/10\n",
            "157/157 [==============================] - 14s 87ms/step - loss: 0.2426 - acc: 0.9094 - val_loss: 0.2893 - val_acc: 0.8804\n",
            "Epoch 4/10\n",
            "157/157 [==============================] - 14s 87ms/step - loss: 0.2001 - acc: 0.9271 - val_loss: 0.2847 - val_acc: 0.8888\n",
            "Epoch 5/10\n",
            "157/157 [==============================] - 14s 88ms/step - loss: 0.1768 - acc: 0.9359 - val_loss: 0.3018 - val_acc: 0.8904\n",
            "Epoch 6/10\n",
            "157/157 [==============================] - 14s 87ms/step - loss: 0.1575 - acc: 0.9441 - val_loss: 0.3112 - val_acc: 0.8762\n",
            "Epoch 7/10\n",
            "157/157 [==============================] - 14s 87ms/step - loss: 0.1423 - acc: 0.9498 - val_loss: 0.3611 - val_acc: 0.8796\n",
            "Epoch 8/10\n",
            "157/157 [==============================] - 14s 87ms/step - loss: 0.1305 - acc: 0.9553 - val_loss: 0.3630 - val_acc: 0.8880\n",
            "Epoch 9/10\n",
            "157/157 [==============================] - 14s 87ms/step - loss: 0.1226 - acc: 0.9564 - val_loss: 0.4638 - val_acc: 0.8622\n",
            "Epoch 10/10\n",
            "157/157 [==============================] - 14s 87ms/step - loss: 0.1121 - acc: 0.9609 - val_loss: 0.6755 - val_acc: 0.8084\n"
          ],
          "name": "stdout"
        }
      ]
    },
    {
      "cell_type": "markdown",
      "metadata": {
        "id": "g4kZOxwCuYra"
      },
      "source": [
        "### RNN 성능개선 \n",
        "- dropout"
      ]
    },
    {
      "cell_type": "code",
      "metadata": {
        "id": "V8YueWV4uXcF",
        "colab": {
          "base_uri": "https://localhost:8080/",
          "height": 409
        },
        "outputId": "35284f56-62db-422d-9893-2acebfebf61c"
      },
      "source": [
        "from keras.layers import Dense\n",
        "from keras.models import Sequential\n",
        "from keras.layers import Embedding, SimpleRNN, LSTM\n",
        "\n",
        "model = Sequential()\n",
        "model.add(Embedding(max_features, 32))\n",
        "model.add(LSTM(32, dropout=0.1, recurrent_dropout=0.5))\n",
        "model.add(Dense(1, activation='sigmoid'))\n",
        "\n",
        "model.compile(optimizer='rmsprop',\n",
        "              loss='binary_crossentropy',\n",
        "              metrics=['acc'])\n",
        "history = model.fit(input_train, y_train,\n",
        "                    epochs=10,\n",
        "                    batch_size=128,\n",
        "                    validation_split=0.2)"
      ],
      "execution_count": null,
      "outputs": [
        {
          "output_type": "stream",
          "text": [
            "WARNING:tensorflow:Layer lstm will not use cuDNN kernel since it doesn't meet the cuDNN kernel criteria. It will use generic GPU kernel as fallback when running on GPU\n",
            "Epoch 1/10\n",
            "157/157 [==============================] - 270s 2s/step - loss: 0.5232 - acc: 0.7589 - val_loss: 0.4409 - val_acc: 0.8038\n",
            "Epoch 2/10\n",
            "157/157 [==============================] - 269s 2s/step - loss: 0.3110 - acc: 0.8805 - val_loss: 1.3068 - val_acc: 0.6070\n",
            "Epoch 3/10\n",
            "157/157 [==============================] - 265s 2s/step - loss: 0.2572 - acc: 0.9040 - val_loss: 0.4408 - val_acc: 0.8602\n",
            "Epoch 4/10\n",
            "157/157 [==============================] - 262s 2s/step - loss: 0.2187 - acc: 0.9201 - val_loss: 0.5019 - val_acc: 0.8430\n",
            "Epoch 5/10\n",
            "157/157 [==============================] - 261s 2s/step - loss: 0.1959 - acc: 0.9288 - val_loss: 0.3866 - val_acc: 0.8840\n",
            "Epoch 6/10\n",
            "157/157 [==============================] - 269s 2s/step - loss: 0.1827 - acc: 0.9349 - val_loss: 0.5673 - val_acc: 0.8418\n",
            "Epoch 7/10\n",
            "157/157 [==============================] - 280s 2s/step - loss: 0.1712 - acc: 0.9388 - val_loss: 0.3778 - val_acc: 0.8872\n",
            "Epoch 8/10\n",
            "157/157 [==============================] - 279s 2s/step - loss: 0.1592 - acc: 0.9459 - val_loss: 0.4154 - val_acc: 0.8822\n",
            "Epoch 9/10\n",
            "157/157 [==============================] - 278s 2s/step - loss: 0.1420 - acc: 0.9496 - val_loss: 0.5249 - val_acc: 0.8676\n",
            "Epoch 10/10\n",
            "157/157 [==============================] - 271s 2s/step - loss: 0.1380 - acc: 0.9536 - val_loss: 0.3714 - val_acc: 0.8862\n"
          ],
          "name": "stdout"
        }
      ]
    },
    {
      "cell_type": "markdown",
      "metadata": {
        "id": "AOBPE9TiwNgS"
      },
      "source": [
        "### RNN 성능개선 \n",
        "- Stacked RNN "
      ]
    },
    {
      "cell_type": "code",
      "metadata": {
        "id": "Dbo1s-wouX62",
        "colab": {
          "base_uri": "https://localhost:8080/",
          "height": 371
        },
        "outputId": "9a5679e1-dfdf-43d1-9ac4-0cdc7a05b900"
      },
      "source": [
        "model = Sequential()\n",
        "model.add(Embedding(max_features, 32))\n",
        "model.add(LSTM(32,return_sequences=True))\n",
        "model.add(LSTM(32,return_sequences=True))\n",
        "model.add(LSTM(32,return_sequences=True))\n",
        "model.add(LSTM(32))\n",
        "model.add(Dense(1, activation='sigmoid'))\n",
        "\n",
        "model.compile(optimizer='rmsprop',\n",
        "              loss='binary_crossentropy',\n",
        "              metrics=['acc'])\n",
        "history = model.fit(input_train, y_train,\n",
        "                    epochs=10,\n",
        "                    batch_size=128,\n",
        "                    validation_split=0.2)"
      ],
      "execution_count": null,
      "outputs": [
        {
          "output_type": "stream",
          "text": [
            "Epoch 1/10\n",
            "157/157 [==============================] - 16s 99ms/step - loss: 0.4896 - acc: 0.7584 - val_loss: 0.4147 - val_acc: 0.8252\n",
            "Epoch 2/10\n",
            "157/157 [==============================] - 15s 93ms/step - loss: 0.3037 - acc: 0.8791 - val_loss: 0.3086 - val_acc: 0.8784\n",
            "Epoch 3/10\n",
            "157/157 [==============================] - 15s 94ms/step - loss: 0.2411 - acc: 0.9092 - val_loss: 0.3997 - val_acc: 0.8636\n",
            "Epoch 4/10\n",
            "157/157 [==============================] - 15s 94ms/step - loss: 0.2121 - acc: 0.9207 - val_loss: 0.3474 - val_acc: 0.8486\n",
            "Epoch 5/10\n",
            "157/157 [==============================] - 15s 95ms/step - loss: 0.1769 - acc: 0.9377 - val_loss: 0.3051 - val_acc: 0.8786\n",
            "Epoch 6/10\n",
            "157/157 [==============================] - 15s 93ms/step - loss: 0.1629 - acc: 0.9413 - val_loss: 0.3961 - val_acc: 0.8398\n",
            "Epoch 7/10\n",
            "157/157 [==============================] - 15s 94ms/step - loss: 0.1430 - acc: 0.9499 - val_loss: 0.4553 - val_acc: 0.8558\n",
            "Epoch 8/10\n",
            "157/157 [==============================] - 15s 94ms/step - loss: 0.1293 - acc: 0.9548 - val_loss: 0.5991 - val_acc: 0.7998\n",
            "Epoch 9/10\n",
            "157/157 [==============================] - 15s 95ms/step - loss: 0.1173 - acc: 0.9600 - val_loss: 0.4281 - val_acc: 0.8804\n",
            "Epoch 10/10\n",
            "157/157 [==============================] - 15s 94ms/step - loss: 0.1065 - acc: 0.9629 - val_loss: 0.4103 - val_acc: 0.8548\n"
          ],
          "name": "stdout"
        }
      ]
    },
    {
      "cell_type": "code",
      "metadata": {
        "id": "T2ts9rWRzG7B",
        "colab": {
          "base_uri": "https://localhost:8080/",
          "height": 371
        },
        "outputId": "4a00ef96-c34f-407e-9238-f3758b30763c"
      },
      "source": [
        "from keras.layers import GRU\n",
        "model = Sequential()\n",
        "model.add(Embedding(max_features, 32))\n",
        "model.add(GRU(32,return_sequences=True))\n",
        "model.add(GRU(32,return_sequences=True))\n",
        "model.add(GRU(32,return_sequences=True))\n",
        "model.add(GRU(32))\n",
        "model.add(Dense(1, activation='sigmoid'))\n",
        "model.compile(optimizer='rmsprop',\n",
        "              loss='binary_crossentropy',\n",
        "              metrics=['acc'])\n",
        "history = model.fit(input_train, y_train,\n",
        "                    epochs=10,\n",
        "                    batch_size=128,\n",
        "                    validation_split=0.2)"
      ],
      "execution_count": null,
      "outputs": [
        {
          "output_type": "stream",
          "text": [
            "Epoch 1/10\n",
            "157/157 [==============================] - 15s 97ms/step - loss: 0.5290 - acc: 0.7225 - val_loss: 0.4149 - val_acc: 0.8124\n",
            "Epoch 2/10\n",
            "157/157 [==============================] - 14s 90ms/step - loss: 0.3185 - acc: 0.8688 - val_loss: 0.4598 - val_acc: 0.7920\n",
            "Epoch 3/10\n",
            "157/157 [==============================] - 14s 90ms/step - loss: 0.2549 - acc: 0.9004 - val_loss: 0.3025 - val_acc: 0.8782\n",
            "Epoch 4/10\n",
            "157/157 [==============================] - 14s 90ms/step - loss: 0.2190 - acc: 0.9165 - val_loss: 0.3082 - val_acc: 0.8894\n",
            "Epoch 5/10\n",
            "157/157 [==============================] - 14s 91ms/step - loss: 0.1853 - acc: 0.9319 - val_loss: 0.3862 - val_acc: 0.8460\n",
            "Epoch 6/10\n",
            "157/157 [==============================] - 14s 90ms/step - loss: 0.1634 - acc: 0.9397 - val_loss: 0.3056 - val_acc: 0.8744\n",
            "Epoch 7/10\n",
            "157/157 [==============================] - 14s 90ms/step - loss: 0.1468 - acc: 0.9469 - val_loss: 0.3921 - val_acc: 0.8522\n",
            "Epoch 8/10\n",
            "157/157 [==============================] - 14s 91ms/step - loss: 0.1313 - acc: 0.9532 - val_loss: 0.3673 - val_acc: 0.8642\n",
            "Epoch 9/10\n",
            "157/157 [==============================] - 14s 91ms/step - loss: 0.1173 - acc: 0.9582 - val_loss: 0.5051 - val_acc: 0.8598\n",
            "Epoch 10/10\n",
            "157/157 [==============================] - 14s 91ms/step - loss: 0.1032 - acc: 0.9638 - val_loss: 0.3756 - val_acc: 0.8820\n"
          ],
          "name": "stdout"
        }
      ]
    },
    {
      "cell_type": "code",
      "metadata": {
        "id": "4oOzFc4qzUlP",
        "colab": {
          "base_uri": "https://localhost:8080/",
          "height": 444
        },
        "outputId": "ffa808fa-3132-4ff4-d9e3-cecb8ababca8"
      },
      "source": [
        "### 오버피팅 방지 => StackedRNN + dropout \n",
        "from keras.layers import GRU\n",
        "model = Sequential()\n",
        "model.add(Embedding(max_features, 32))\n",
        "model.add(GRU(32,return_sequences=True, dropout=0.1, recurrent_dropout=0.2))\n",
        "model.add(GRU(32,return_sequences=True, dropout=0.1, recurrent_dropout=0.2))\n",
        "model.add(GRU(32,return_sequences=True, dropout=0.1, recurrent_dropout=0.2))\n",
        "model.add(GRU(32))\n",
        "model.add(Dense(1, activation='sigmoid'))\n",
        "\n",
        "model.compile(optimizer='rmsprop',\n",
        "              loss='binary_crossentropy',\n",
        "              metrics=['acc'])\n",
        "history = model.fit(input_train, y_train,\n",
        "                    epochs=10,\n",
        "                    batch_size=128,\n",
        "                    validation_split=0.2)"
      ],
      "execution_count": null,
      "outputs": [
        {
          "output_type": "stream",
          "text": [
            "WARNING:tensorflow:Layer gru will not use cuDNN kernel since it doesn't meet the cuDNN kernel criteria. It will use generic GPU kernel as fallback when running on GPU\n",
            "WARNING:tensorflow:Layer gru_1 will not use cuDNN kernel since it doesn't meet the cuDNN kernel criteria. It will use generic GPU kernel as fallback when running on GPU\n",
            "WARNING:tensorflow:Layer gru_2 will not use cuDNN kernel since it doesn't meet the cuDNN kernel criteria. It will use generic GPU kernel as fallback when running on GPU\n",
            "Epoch 1/10\n",
            "157/157 [==============================] - 746s 5s/step - loss: 0.5371 - acc: 0.7143 - val_loss: 0.3971 - val_acc: 0.8396\n",
            "Epoch 2/10\n",
            "157/157 [==============================] - 710s 5s/step - loss: 0.3335 - acc: 0.8626 - val_loss: 0.3972 - val_acc: 0.8380\n",
            "Epoch 3/10\n",
            "157/157 [==============================] - 733s 5s/step - loss: 0.2674 - acc: 0.8929 - val_loss: 0.3580 - val_acc: 0.8732\n",
            "Epoch 4/10\n",
            "157/157 [==============================] - 750s 5s/step - loss: 0.2311 - acc: 0.9136 - val_loss: 0.3046 - val_acc: 0.8704\n",
            "Epoch 5/10\n",
            "157/157 [==============================] - 756s 5s/step - loss: 0.1973 - acc: 0.9262 - val_loss: 0.4819 - val_acc: 0.8558\n",
            "Epoch 6/10\n",
            "157/157 [==============================] - 720s 5s/step - loss: 0.1764 - acc: 0.9380 - val_loss: 0.3497 - val_acc: 0.8736\n",
            "Epoch 7/10\n",
            "157/157 [==============================] - 720s 5s/step - loss: 0.1553 - acc: 0.9435 - val_loss: 0.3615 - val_acc: 0.8728\n",
            "Epoch 8/10\n",
            "157/157 [==============================] - 751s 5s/step - loss: 0.1415 - acc: 0.9506 - val_loss: 0.3201 - val_acc: 0.8894\n",
            "Epoch 9/10\n",
            "157/157 [==============================] - 755s 5s/step - loss: 0.1243 - acc: 0.9567 - val_loss: 0.3512 - val_acc: 0.8716\n",
            "Epoch 10/10\n",
            "157/157 [==============================] - 744s 5s/step - loss: 0.1082 - acc: 0.9610 - val_loss: 0.3447 - val_acc: 0.8760\n"
          ],
          "name": "stdout"
        }
      ]
    },
    {
      "cell_type": "markdown",
      "metadata": {
        "id": "qLI12sXU5B1Z"
      },
      "source": [
        "### RNN 성능개선 \n",
        "- 양방향 RNN "
      ]
    },
    {
      "cell_type": "code",
      "metadata": {
        "id": "NejgNqIS5GS6",
        "colab": {
          "base_uri": "https://localhost:8080/",
          "height": 371
        },
        "outputId": "f02de940-30ca-4692-a210-cda4da285240"
      },
      "source": [
        "from keras.layers import Dense\n",
        "from keras.models import Sequential\n",
        "from keras.layers import Embedding, SimpleRNN, LSTM\n",
        "from keras.layers import Bidirectional\n",
        "\n",
        "model = Sequential() \n",
        "model.add(Embedding(max_features, 32))\n",
        "model.add(Bidirectional(LSTM(32)))   #양방향 - 순서가 역방향이어도 잘 동작하는 데이터    32 -> 64/128  output feature 늘림\n",
        "# model.add(Dense(32, activation='relu'))\n",
        "model.add(Dense(1, activation='sigmoid'))\n",
        "\n",
        "model.compile(optimizer='rmsprop',\n",
        "              loss='binary_crossentropy',\n",
        "              metrics=['acc'])\n",
        "history = model.fit(input_train, y_train,\n",
        "                    epochs=10,\n",
        "                    batch_size=128,\n",
        "                    validation_split=0.2)\n"
      ],
      "execution_count": null,
      "outputs": [
        {
          "output_type": "stream",
          "text": [
            "Epoch 1/10\n",
            "157/157 [==============================] - 8s 51ms/step - loss: 0.5470 - acc: 0.7360 - val_loss: 0.4778 - val_acc: 0.7732\n",
            "Epoch 2/10\n",
            "157/157 [==============================] - 7s 48ms/step - loss: 0.3202 - acc: 0.8755 - val_loss: 0.3535 - val_acc: 0.8498\n",
            "Epoch 3/10\n",
            "157/157 [==============================] - 8s 48ms/step - loss: 0.2458 - acc: 0.9057 - val_loss: 0.6773 - val_acc: 0.7914\n",
            "Epoch 4/10\n",
            "157/157 [==============================] - 7s 48ms/step - loss: 0.2078 - acc: 0.9257 - val_loss: 0.4767 - val_acc: 0.8034\n",
            "Epoch 5/10\n",
            "157/157 [==============================] - 8s 49ms/step - loss: 0.1820 - acc: 0.9336 - val_loss: 0.3863 - val_acc: 0.8802\n",
            "Epoch 6/10\n",
            "157/157 [==============================] - 8s 48ms/step - loss: 0.1613 - acc: 0.9424 - val_loss: 0.3463 - val_acc: 0.8564\n",
            "Epoch 7/10\n",
            "157/157 [==============================] - 7s 48ms/step - loss: 0.1470 - acc: 0.9480 - val_loss: 0.3102 - val_acc: 0.8684\n",
            "Epoch 8/10\n",
            "157/157 [==============================] - 8s 48ms/step - loss: 0.1317 - acc: 0.9545 - val_loss: 0.3945 - val_acc: 0.8804\n",
            "Epoch 9/10\n",
            "157/157 [==============================] - 8s 48ms/step - loss: 0.1180 - acc: 0.9581 - val_loss: 0.3591 - val_acc: 0.8858\n",
            "Epoch 10/10\n",
            "157/157 [==============================] - 8s 48ms/step - loss: 0.1120 - acc: 0.9602 - val_loss: 0.4213 - val_acc: 0.8452\n"
          ],
          "name": "stdout"
        }
      ]
    },
    {
      "cell_type": "code",
      "metadata": {
        "id": "nv9Vl2Ke5Ppi"
      },
      "source": [
        ""
      ],
      "execution_count": null,
      "outputs": []
    }
  ]
}